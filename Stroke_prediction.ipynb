{
  "nbformat": 4,
  "nbformat_minor": 0,
  "metadata": {
    "colab": {
      "provenance": [],
      "collapsed_sections": [
        "tSBiUtGBw1lA"
      ],
      "authorship_tag": "ABX9TyOBBkpOkRnb2tjUU6UUPbPJ",
      "include_colab_link": true
    },
    "kernelspec": {
      "name": "python3",
      "display_name": "Python 3"
    },
    "language_info": {
      "name": "python"
    }
  },
  "cells": [
    {
      "cell_type": "markdown",
      "metadata": {
        "id": "view-in-github",
        "colab_type": "text"
      },
      "source": [
        "<a href=\"https://colab.research.google.com/github/mariana-0/Stroke-Prediction/blob/master/Stroke_prediction.ipynb\" target=\"_parent\"><img src=\"https://colab.research.google.com/assets/colab-badge.svg\" alt=\"Open In Colab\"/></a>"
      ]
    },
    {
      "cell_type": "markdown",
      "source": [
        "# Stroke Prediction"
      ],
      "metadata": {
        "id": "PXob2wtcXV6h"
      }
    },
    {
      "cell_type": "markdown",
      "source": [
        "## Limpieza y exploración de datos"
      ],
      "metadata": {
        "id": "csSTQ9lAXZpb"
      }
    },
    {
      "cell_type": "code",
      "execution_count": null,
      "metadata": {
        "colab": {
          "base_uri": "https://localhost:8080/"
        },
        "id": "HcwkAzK1XEuO",
        "outputId": "8b2bd81f-ca0e-4d7f-b1ce-cace69de58a5"
      },
      "outputs": [
        {
          "output_type": "stream",
          "name": "stdout",
          "text": [
            "Mounted at /content/drive\n"
          ]
        }
      ],
      "source": [
        "from google.colab import drive\n",
        "drive.mount('/content/drive')"
      ]
    },
    {
      "cell_type": "code",
      "source": [
        "import numpy as np\n",
        "import matplotlib.pyplot as plt\n",
        "import pandas as pd"
      ],
      "metadata": {
        "id": "CMKD0mtTYA6Q"
      },
      "execution_count": null,
      "outputs": []
    },
    {
      "cell_type": "markdown",
      "source": [
        "### Información dataset"
      ],
      "metadata": {
        "id": "kHbfX7z3wOc-"
      }
    },
    {
      "cell_type": "markdown",
      "source": [
        "Este set de datos es usado para predecir si un paciente tiene probabilidad de sufrir un derrame basado en parámetros de entrada como género, edad, enfermedades, tipo de trabajo y residencia, entre otros. \n",
        "\n",
        "Fuente: https://www.kaggle.com/datasets/fedesoriano/stroke-prediction-dataset"
      ],
      "metadata": {
        "id": "RJzLcFgHHmeZ"
      }
    },
    {
      "cell_type": "markdown",
      "source": [
        "### Diccionario de datos"
      ],
      "metadata": {
        "id": "KwGmyGWEIa6k"
      }
    },
    {
      "cell_type": "markdown",
      "source": [
        "![image.png](data:image/png;base64,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)"
      ],
      "metadata": {
        "id": "YqXJiKyqwSI8"
      }
    },
    {
      "cell_type": "markdown",
      "source": [
        "\"unknown\" en smoking status significa que no hay información disponible."
      ],
      "metadata": {
        "id": "q_c38KlIzgs2"
      }
    },
    {
      "cell_type": "markdown",
      "source": [
        "### Cargue de datos"
      ],
      "metadata": {
        "id": "LMTsHbjFIr2h"
      }
    },
    {
      "cell_type": "code",
      "source": [
        "df = pd.read_excel('/content/drive/MyDrive/CodingDojo_DataScience/P2/opcion healthcare-dataset-stroke-data.xlsx')\n",
        "df.head()"
      ],
      "metadata": {
        "colab": {
          "base_uri": "https://localhost:8080/",
          "height": 206
        },
        "id": "n1NOwra0rH59",
        "outputId": "d9aff7b7-5771-4fd7-d6a4-b428c1ed906a"
      },
      "execution_count": null,
      "outputs": [
        {
          "output_type": "execute_result",
          "data": {
            "text/plain": [
              "      id  gender   age  hypertension  heart_disease ever_married  \\\n",
              "0   9046    Male  67.0             0              1          Yes   \n",
              "1  51676  Female  61.0             0              0          Yes   \n",
              "2  31112    Male  80.0             0              1          Yes   \n",
              "3  60182  Female  49.0             0              0          Yes   \n",
              "4   1665  Female  79.0             1              0          Yes   \n",
              "\n",
              "       work_type Residence_type  avg_glucose_level   bmi   smoking_status  \\\n",
              "0        Private          Urban             228.69  36.6  formerly smoked   \n",
              "1  Self-employed          Rural             202.21   NaN     never smoked   \n",
              "2        Private          Rural             105.92  32.5     never smoked   \n",
              "3        Private          Urban             171.23  34.4           smokes   \n",
              "4  Self-employed          Rural             174.12  24.0     never smoked   \n",
              "\n",
              "   stroke  \n",
              "0       1  \n",
              "1       1  \n",
              "2       1  \n",
              "3       1  \n",
              "4       1  "
            ],
            "text/html": [
              "\n",
              "  <div id=\"df-1b321471-2034-48c3-b7c8-7e17f560eec2\">\n",
              "    <div class=\"colab-df-container\">\n",
              "      <div>\n",
              "<style scoped>\n",
              "    .dataframe tbody tr th:only-of-type {\n",
              "        vertical-align: middle;\n",
              "    }\n",
              "\n",
              "    .dataframe tbody tr th {\n",
              "        vertical-align: top;\n",
              "    }\n",
              "\n",
              "    .dataframe thead th {\n",
              "        text-align: right;\n",
              "    }\n",
              "</style>\n",
              "<table border=\"1\" class=\"dataframe\">\n",
              "  <thead>\n",
              "    <tr style=\"text-align: right;\">\n",
              "      <th></th>\n",
              "      <th>id</th>\n",
              "      <th>gender</th>\n",
              "      <th>age</th>\n",
              "      <th>hypertension</th>\n",
              "      <th>heart_disease</th>\n",
              "      <th>ever_married</th>\n",
              "      <th>work_type</th>\n",
              "      <th>Residence_type</th>\n",
              "      <th>avg_glucose_level</th>\n",
              "      <th>bmi</th>\n",
              "      <th>smoking_status</th>\n",
              "      <th>stroke</th>\n",
              "    </tr>\n",
              "  </thead>\n",
              "  <tbody>\n",
              "    <tr>\n",
              "      <th>0</th>\n",
              "      <td>9046</td>\n",
              "      <td>Male</td>\n",
              "      <td>67.0</td>\n",
              "      <td>0</td>\n",
              "      <td>1</td>\n",
              "      <td>Yes</td>\n",
              "      <td>Private</td>\n",
              "      <td>Urban</td>\n",
              "      <td>228.69</td>\n",
              "      <td>36.6</td>\n",
              "      <td>formerly smoked</td>\n",
              "      <td>1</td>\n",
              "    </tr>\n",
              "    <tr>\n",
              "      <th>1</th>\n",
              "      <td>51676</td>\n",
              "      <td>Female</td>\n",
              "      <td>61.0</td>\n",
              "      <td>0</td>\n",
              "      <td>0</td>\n",
              "      <td>Yes</td>\n",
              "      <td>Self-employed</td>\n",
              "      <td>Rural</td>\n",
              "      <td>202.21</td>\n",
              "      <td>NaN</td>\n",
              "      <td>never smoked</td>\n",
              "      <td>1</td>\n",
              "    </tr>\n",
              "    <tr>\n",
              "      <th>2</th>\n",
              "      <td>31112</td>\n",
              "      <td>Male</td>\n",
              "      <td>80.0</td>\n",
              "      <td>0</td>\n",
              "      <td>1</td>\n",
              "      <td>Yes</td>\n",
              "      <td>Private</td>\n",
              "      <td>Rural</td>\n",
              "      <td>105.92</td>\n",
              "      <td>32.5</td>\n",
              "      <td>never smoked</td>\n",
              "      <td>1</td>\n",
              "    </tr>\n",
              "    <tr>\n",
              "      <th>3</th>\n",
              "      <td>60182</td>\n",
              "      <td>Female</td>\n",
              "      <td>49.0</td>\n",
              "      <td>0</td>\n",
              "      <td>0</td>\n",
              "      <td>Yes</td>\n",
              "      <td>Private</td>\n",
              "      <td>Urban</td>\n",
              "      <td>171.23</td>\n",
              "      <td>34.4</td>\n",
              "      <td>smokes</td>\n",
              "      <td>1</td>\n",
              "    </tr>\n",
              "    <tr>\n",
              "      <th>4</th>\n",
              "      <td>1665</td>\n",
              "      <td>Female</td>\n",
              "      <td>79.0</td>\n",
              "      <td>1</td>\n",
              "      <td>0</td>\n",
              "      <td>Yes</td>\n",
              "      <td>Self-employed</td>\n",
              "      <td>Rural</td>\n",
              "      <td>174.12</td>\n",
              "      <td>24.0</td>\n",
              "      <td>never smoked</td>\n",
              "      <td>1</td>\n",
              "    </tr>\n",
              "  </tbody>\n",
              "</table>\n",
              "</div>\n",
              "      <button class=\"colab-df-convert\" onclick=\"convertToInteractive('df-1b321471-2034-48c3-b7c8-7e17f560eec2')\"\n",
              "              title=\"Convert this dataframe to an interactive table.\"\n",
              "              style=\"display:none;\">\n",
              "        \n",
              "  <svg xmlns=\"http://www.w3.org/2000/svg\" height=\"24px\"viewBox=\"0 0 24 24\"\n",
              "       width=\"24px\">\n",
              "    <path d=\"M0 0h24v24H0V0z\" fill=\"none\"/>\n",
              "    <path d=\"M18.56 5.44l.94 2.06.94-2.06 2.06-.94-2.06-.94-.94-2.06-.94 2.06-2.06.94zm-11 1L8.5 8.5l.94-2.06 2.06-.94-2.06-.94L8.5 2.5l-.94 2.06-2.06.94zm10 10l.94 2.06.94-2.06 2.06-.94-2.06-.94-.94-2.06-.94 2.06-2.06.94z\"/><path d=\"M17.41 7.96l-1.37-1.37c-.4-.4-.92-.59-1.43-.59-.52 0-1.04.2-1.43.59L10.3 9.45l-7.72 7.72c-.78.78-.78 2.05 0 2.83L4 21.41c.39.39.9.59 1.41.59.51 0 1.02-.2 1.41-.59l7.78-7.78 2.81-2.81c.8-.78.8-2.07 0-2.86zM5.41 20L4 18.59l7.72-7.72 1.47 1.35L5.41 20z\"/>\n",
              "  </svg>\n",
              "      </button>\n",
              "      \n",
              "  <style>\n",
              "    .colab-df-container {\n",
              "      display:flex;\n",
              "      flex-wrap:wrap;\n",
              "      gap: 12px;\n",
              "    }\n",
              "\n",
              "    .colab-df-convert {\n",
              "      background-color: #E8F0FE;\n",
              "      border: none;\n",
              "      border-radius: 50%;\n",
              "      cursor: pointer;\n",
              "      display: none;\n",
              "      fill: #1967D2;\n",
              "      height: 32px;\n",
              "      padding: 0 0 0 0;\n",
              "      width: 32px;\n",
              "    }\n",
              "\n",
              "    .colab-df-convert:hover {\n",
              "      background-color: #E2EBFA;\n",
              "      box-shadow: 0px 1px 2px rgba(60, 64, 67, 0.3), 0px 1px 3px 1px rgba(60, 64, 67, 0.15);\n",
              "      fill: #174EA6;\n",
              "    }\n",
              "\n",
              "    [theme=dark] .colab-df-convert {\n",
              "      background-color: #3B4455;\n",
              "      fill: #D2E3FC;\n",
              "    }\n",
              "\n",
              "    [theme=dark] .colab-df-convert:hover {\n",
              "      background-color: #434B5C;\n",
              "      box-shadow: 0px 1px 3px 1px rgba(0, 0, 0, 0.15);\n",
              "      filter: drop-shadow(0px 1px 2px rgba(0, 0, 0, 0.3));\n",
              "      fill: #FFFFFF;\n",
              "    }\n",
              "  </style>\n",
              "\n",
              "      <script>\n",
              "        const buttonEl =\n",
              "          document.querySelector('#df-1b321471-2034-48c3-b7c8-7e17f560eec2 button.colab-df-convert');\n",
              "        buttonEl.style.display =\n",
              "          google.colab.kernel.accessAllowed ? 'block' : 'none';\n",
              "\n",
              "        async function convertToInteractive(key) {\n",
              "          const element = document.querySelector('#df-1b321471-2034-48c3-b7c8-7e17f560eec2');\n",
              "          const dataTable =\n",
              "            await google.colab.kernel.invokeFunction('convertToInteractive',\n",
              "                                                     [key], {});\n",
              "          if (!dataTable) return;\n",
              "\n",
              "          const docLinkHtml = 'Like what you see? Visit the ' +\n",
              "            '<a target=\"_blank\" href=https://colab.research.google.com/notebooks/data_table.ipynb>data table notebook</a>'\n",
              "            + ' to learn more about interactive tables.';\n",
              "          element.innerHTML = '';\n",
              "          dataTable['output_type'] = 'display_data';\n",
              "          await google.colab.output.renderOutput(dataTable, element);\n",
              "          const docLink = document.createElement('div');\n",
              "          docLink.innerHTML = docLinkHtml;\n",
              "          element.appendChild(docLink);\n",
              "        }\n",
              "      </script>\n",
              "    </div>\n",
              "  </div>\n",
              "  "
            ]
          },
          "metadata": {},
          "execution_count": 3
        }
      ]
    },
    {
      "cell_type": "code",
      "source": [
        "df['id'].nunique()"
      ],
      "metadata": {
        "colab": {
          "base_uri": "https://localhost:8080/"
        },
        "id": "0pT6n3ZVGYwr",
        "outputId": "37093232-87a1-4b1e-b6dc-2fdbe2b224f3"
      },
      "execution_count": null,
      "outputs": [
        {
          "output_type": "execute_result",
          "data": {
            "text/plain": [
              "5110"
            ]
          },
          "metadata": {},
          "execution_count": 4
        }
      ]
    },
    {
      "cell_type": "code",
      "source": [
        "df.info()"
      ],
      "metadata": {
        "colab": {
          "base_uri": "https://localhost:8080/"
        },
        "id": "ZMgCJkySr58N",
        "outputId": "79f43896-9205-4b04-a3dc-742bb37323b1"
      },
      "execution_count": null,
      "outputs": [
        {
          "output_type": "stream",
          "name": "stdout",
          "text": [
            "<class 'pandas.core.frame.DataFrame'>\n",
            "RangeIndex: 5110 entries, 0 to 5109\n",
            "Data columns (total 12 columns):\n",
            " #   Column             Non-Null Count  Dtype  \n",
            "---  ------             --------------  -----  \n",
            " 0   id                 5110 non-null   int64  \n",
            " 1   gender             5110 non-null   object \n",
            " 2   age                5110 non-null   float64\n",
            " 3   hypertension       5110 non-null   int64  \n",
            " 4   heart_disease      5110 non-null   int64  \n",
            " 5   ever_married       5110 non-null   object \n",
            " 6   work_type          5110 non-null   object \n",
            " 7   Residence_type     5110 non-null   object \n",
            " 8   avg_glucose_level  5110 non-null   float64\n",
            " 9   bmi                4909 non-null   float64\n",
            " 10  smoking_status     5110 non-null   object \n",
            " 11  stroke             5110 non-null   int64  \n",
            "dtypes: float64(3), int64(4), object(5)\n",
            "memory usage: 479.2+ KB\n"
          ]
        }
      ]
    },
    {
      "cell_type": "code",
      "source": [
        "df['hypertension']=df['hypertension'].astype(object)\n",
        "df['heart_disease']=df['heart_disease'].astype(object)"
      ],
      "metadata": {
        "id": "0NnfJkh-v5Xz"
      },
      "execution_count": null,
      "outputs": []
    },
    {
      "cell_type": "markdown",
      "source": [
        "### Identifación valores faltantes."
      ],
      "metadata": {
        "id": "uPton7IB3xIl"
      }
    },
    {
      "cell_type": "code",
      "source": [
        "df.isna().sum()"
      ],
      "metadata": {
        "colab": {
          "base_uri": "https://localhost:8080/"
        },
        "id": "2XVZ6TrosFjh",
        "outputId": "995902e2-9902-42a0-bfdf-dc8e12af4986"
      },
      "execution_count": null,
      "outputs": [
        {
          "output_type": "execute_result",
          "data": {
            "text/plain": [
              "id                     0\n",
              "gender                 0\n",
              "age                    0\n",
              "hypertension           0\n",
              "heart_disease          0\n",
              "ever_married           0\n",
              "work_type              0\n",
              "Residence_type         0\n",
              "avg_glucose_level      0\n",
              "bmi                  201\n",
              "smoking_status         0\n",
              "stroke                 0\n",
              "dtype: int64"
            ]
          },
          "metadata": {},
          "execution_count": 7
        }
      ]
    },
    {
      "cell_type": "markdown",
      "source": [
        "201 datos faltantes en columna bmi (índice de masa corporal)."
      ],
      "metadata": {
        "id": "hjSeRgDIr9F2"
      }
    },
    {
      "cell_type": "markdown",
      "source": [
        "### Identificación filas duplicadas."
      ],
      "metadata": {
        "id": "quGkPJTw34sG"
      }
    },
    {
      "cell_type": "code",
      "source": [
        "df.duplicated().sum()"
      ],
      "metadata": {
        "colab": {
          "base_uri": "https://localhost:8080/"
        },
        "id": "cgGF2MEyscvY",
        "outputId": "74a1e1b0-7a30-469b-8772-24cfe8bda1de"
      },
      "execution_count": null,
      "outputs": [
        {
          "output_type": "execute_result",
          "data": {
            "text/plain": [
              "0"
            ]
          },
          "metadata": {},
          "execution_count": 8
        }
      ]
    },
    {
      "cell_type": "markdown",
      "source": [
        "No hay filas duplicadas"
      ],
      "metadata": {
        "id": "TqDGkE_Xxsst"
      }
    },
    {
      "cell_type": "markdown",
      "source": [
        "### Columnas innecesarias:\n",
        "\n",
        "Las columnas que no son útiles (inicialmente) para la realización de modelos son:\n",
        "\n",
        "*   Id\n"
      ],
      "metadata": {
        "id": "tSBiUtGBw1lA"
      }
    },
    {
      "cell_type": "code",
      "source": [
        "df = df.drop(columns=['id'])"
      ],
      "metadata": {
        "id": "QOJTGPoqxkYk"
      },
      "execution_count": null,
      "outputs": []
    },
    {
      "cell_type": "code",
      "source": [
        "df.head()"
      ],
      "metadata": {
        "colab": {
          "base_uri": "https://localhost:8080/"
        },
        "id": "5MKvGyaxx805",
        "outputId": "e1593d12-c004-44b9-8adc-92d2f9d7a86f"
      },
      "execution_count": null,
      "outputs": [
        {
          "output_type": "execute_result",
          "data": {
            "text/plain": [
              "   gender   age hypertension heart_disease ever_married      work_type  \\\n",
              "0    Male  67.0            0             1          Yes        Private   \n",
              "1  Female  61.0            0             0          Yes  Self-employed   \n",
              "2    Male  80.0            0             1          Yes        Private   \n",
              "3  Female  49.0            0             0          Yes        Private   \n",
              "4  Female  79.0            1             0          Yes  Self-employed   \n",
              "\n",
              "  Residence_type  avg_glucose_level   bmi   smoking_status  stroke  \n",
              "0          Urban             228.69  36.6  formerly smoked       1  \n",
              "1          Rural             202.21   NaN     never smoked       1  \n",
              "2          Rural             105.92  32.5     never smoked       1  \n",
              "3          Urban             171.23  34.4           smokes       1  \n",
              "4          Rural             174.12  24.0     never smoked       1  "
            ],
            "text/html": [
              "\n",
              "  <div id=\"df-38053d46-5ecf-49fe-be0a-8bd85e4aa03d\">\n",
              "    <div class=\"colab-df-container\">\n",
              "      <div>\n",
              "<style scoped>\n",
              "    .dataframe tbody tr th:only-of-type {\n",
              "        vertical-align: middle;\n",
              "    }\n",
              "\n",
              "    .dataframe tbody tr th {\n",
              "        vertical-align: top;\n",
              "    }\n",
              "\n",
              "    .dataframe thead th {\n",
              "        text-align: right;\n",
              "    }\n",
              "</style>\n",
              "<table border=\"1\" class=\"dataframe\">\n",
              "  <thead>\n",
              "    <tr style=\"text-align: right;\">\n",
              "      <th></th>\n",
              "      <th>gender</th>\n",
              "      <th>age</th>\n",
              "      <th>hypertension</th>\n",
              "      <th>heart_disease</th>\n",
              "      <th>ever_married</th>\n",
              "      <th>work_type</th>\n",
              "      <th>Residence_type</th>\n",
              "      <th>avg_glucose_level</th>\n",
              "      <th>bmi</th>\n",
              "      <th>smoking_status</th>\n",
              "      <th>stroke</th>\n",
              "    </tr>\n",
              "  </thead>\n",
              "  <tbody>\n",
              "    <tr>\n",
              "      <th>0</th>\n",
              "      <td>Male</td>\n",
              "      <td>67.0</td>\n",
              "      <td>0</td>\n",
              "      <td>1</td>\n",
              "      <td>Yes</td>\n",
              "      <td>Private</td>\n",
              "      <td>Urban</td>\n",
              "      <td>228.69</td>\n",
              "      <td>36.6</td>\n",
              "      <td>formerly smoked</td>\n",
              "      <td>1</td>\n",
              "    </tr>\n",
              "    <tr>\n",
              "      <th>1</th>\n",
              "      <td>Female</td>\n",
              "      <td>61.0</td>\n",
              "      <td>0</td>\n",
              "      <td>0</td>\n",
              "      <td>Yes</td>\n",
              "      <td>Self-employed</td>\n",
              "      <td>Rural</td>\n",
              "      <td>202.21</td>\n",
              "      <td>NaN</td>\n",
              "      <td>never smoked</td>\n",
              "      <td>1</td>\n",
              "    </tr>\n",
              "    <tr>\n",
              "      <th>2</th>\n",
              "      <td>Male</td>\n",
              "      <td>80.0</td>\n",
              "      <td>0</td>\n",
              "      <td>1</td>\n",
              "      <td>Yes</td>\n",
              "      <td>Private</td>\n",
              "      <td>Rural</td>\n",
              "      <td>105.92</td>\n",
              "      <td>32.5</td>\n",
              "      <td>never smoked</td>\n",
              "      <td>1</td>\n",
              "    </tr>\n",
              "    <tr>\n",
              "      <th>3</th>\n",
              "      <td>Female</td>\n",
              "      <td>49.0</td>\n",
              "      <td>0</td>\n",
              "      <td>0</td>\n",
              "      <td>Yes</td>\n",
              "      <td>Private</td>\n",
              "      <td>Urban</td>\n",
              "      <td>171.23</td>\n",
              "      <td>34.4</td>\n",
              "      <td>smokes</td>\n",
              "      <td>1</td>\n",
              "    </tr>\n",
              "    <tr>\n",
              "      <th>4</th>\n",
              "      <td>Female</td>\n",
              "      <td>79.0</td>\n",
              "      <td>1</td>\n",
              "      <td>0</td>\n",
              "      <td>Yes</td>\n",
              "      <td>Self-employed</td>\n",
              "      <td>Rural</td>\n",
              "      <td>174.12</td>\n",
              "      <td>24.0</td>\n",
              "      <td>never smoked</td>\n",
              "      <td>1</td>\n",
              "    </tr>\n",
              "  </tbody>\n",
              "</table>\n",
              "</div>\n",
              "      <button class=\"colab-df-convert\" onclick=\"convertToInteractive('df-38053d46-5ecf-49fe-be0a-8bd85e4aa03d')\"\n",
              "              title=\"Convert this dataframe to an interactive table.\"\n",
              "              style=\"display:none;\">\n",
              "        \n",
              "  <svg xmlns=\"http://www.w3.org/2000/svg\" height=\"24px\"viewBox=\"0 0 24 24\"\n",
              "       width=\"24px\">\n",
              "    <path d=\"M0 0h24v24H0V0z\" fill=\"none\"/>\n",
              "    <path d=\"M18.56 5.44l.94 2.06.94-2.06 2.06-.94-2.06-.94-.94-2.06-.94 2.06-2.06.94zm-11 1L8.5 8.5l.94-2.06 2.06-.94-2.06-.94L8.5 2.5l-.94 2.06-2.06.94zm10 10l.94 2.06.94-2.06 2.06-.94-2.06-.94-.94-2.06-.94 2.06-2.06.94z\"/><path d=\"M17.41 7.96l-1.37-1.37c-.4-.4-.92-.59-1.43-.59-.52 0-1.04.2-1.43.59L10.3 9.45l-7.72 7.72c-.78.78-.78 2.05 0 2.83L4 21.41c.39.39.9.59 1.41.59.51 0 1.02-.2 1.41-.59l7.78-7.78 2.81-2.81c.8-.78.8-2.07 0-2.86zM5.41 20L4 18.59l7.72-7.72 1.47 1.35L5.41 20z\"/>\n",
              "  </svg>\n",
              "      </button>\n",
              "      \n",
              "  <style>\n",
              "    .colab-df-container {\n",
              "      display:flex;\n",
              "      flex-wrap:wrap;\n",
              "      gap: 12px;\n",
              "    }\n",
              "\n",
              "    .colab-df-convert {\n",
              "      background-color: #E8F0FE;\n",
              "      border: none;\n",
              "      border-radius: 50%;\n",
              "      cursor: pointer;\n",
              "      display: none;\n",
              "      fill: #1967D2;\n",
              "      height: 32px;\n",
              "      padding: 0 0 0 0;\n",
              "      width: 32px;\n",
              "    }\n",
              "\n",
              "    .colab-df-convert:hover {\n",
              "      background-color: #E2EBFA;\n",
              "      box-shadow: 0px 1px 2px rgba(60, 64, 67, 0.3), 0px 1px 3px 1px rgba(60, 64, 67, 0.15);\n",
              "      fill: #174EA6;\n",
              "    }\n",
              "\n",
              "    [theme=dark] .colab-df-convert {\n",
              "      background-color: #3B4455;\n",
              "      fill: #D2E3FC;\n",
              "    }\n",
              "\n",
              "    [theme=dark] .colab-df-convert:hover {\n",
              "      background-color: #434B5C;\n",
              "      box-shadow: 0px 1px 3px 1px rgba(0, 0, 0, 0.15);\n",
              "      filter: drop-shadow(0px 1px 2px rgba(0, 0, 0, 0.3));\n",
              "      fill: #FFFFFF;\n",
              "    }\n",
              "  </style>\n",
              "\n",
              "      <script>\n",
              "        const buttonEl =\n",
              "          document.querySelector('#df-38053d46-5ecf-49fe-be0a-8bd85e4aa03d button.colab-df-convert');\n",
              "        buttonEl.style.display =\n",
              "          google.colab.kernel.accessAllowed ? 'block' : 'none';\n",
              "\n",
              "        async function convertToInteractive(key) {\n",
              "          const element = document.querySelector('#df-38053d46-5ecf-49fe-be0a-8bd85e4aa03d');\n",
              "          const dataTable =\n",
              "            await google.colab.kernel.invokeFunction('convertToInteractive',\n",
              "                                                     [key], {});\n",
              "          if (!dataTable) return;\n",
              "\n",
              "          const docLinkHtml = 'Like what you see? Visit the ' +\n",
              "            '<a target=\"_blank\" href=https://colab.research.google.com/notebooks/data_table.ipynb>data table notebook</a>'\n",
              "            + ' to learn more about interactive tables.';\n",
              "          element.innerHTML = '';\n",
              "          dataTable['output_type'] = 'display_data';\n",
              "          await google.colab.output.renderOutput(dataTable, element);\n",
              "          const docLink = document.createElement('div');\n",
              "          docLink.innerHTML = docLinkHtml;\n",
              "          element.appendChild(docLink);\n",
              "        }\n",
              "      </script>\n",
              "    </div>\n",
              "  </div>\n",
              "  "
            ]
          },
          "metadata": {},
          "execution_count": 10
        }
      ]
    },
    {
      "cell_type": "markdown",
      "source": [
        "### Identificicaión de incosistencias en los datos."
      ],
      "metadata": {
        "id": "tsS_KH5M4ENA"
      }
    },
    {
      "cell_type": "code",
      "source": [
        "df['work_type'].value_counts()"
      ],
      "metadata": {
        "colab": {
          "base_uri": "https://localhost:8080/"
        },
        "id": "bBsUTD0iyCJF",
        "outputId": "6ddfcc31-a79b-4483-805c-55ac1cdf58ee"
      },
      "execution_count": null,
      "outputs": [
        {
          "output_type": "execute_result",
          "data": {
            "text/plain": [
              "Private          2925\n",
              "Self-employed     819\n",
              "children          687\n",
              "Govt_job          657\n",
              "Never_worked       22\n",
              "Name: work_type, dtype: int64"
            ]
          },
          "metadata": {},
          "execution_count": 11
        }
      ]
    },
    {
      "cell_type": "code",
      "source": [
        "df['gender'].value_counts()"
      ],
      "metadata": {
        "colab": {
          "base_uri": "https://localhost:8080/"
        },
        "id": "uB88XCy4z0Ge",
        "outputId": "8ed53ac7-dc48-446f-feff-3fc576eeba62"
      },
      "execution_count": null,
      "outputs": [
        {
          "output_type": "execute_result",
          "data": {
            "text/plain": [
              "Female    2994\n",
              "Male      2115\n",
              "Other        1\n",
              "Name: gender, dtype: int64"
            ]
          },
          "metadata": {},
          "execution_count": 12
        }
      ]
    },
    {
      "cell_type": "code",
      "source": [
        "df['ever_married'].value_counts()"
      ],
      "metadata": {
        "colab": {
          "base_uri": "https://localhost:8080/"
        },
        "id": "EyCaa9e-z3lg",
        "outputId": "2a70c2e0-d19b-4622-9514-a4ec147211f2"
      },
      "execution_count": null,
      "outputs": [
        {
          "output_type": "execute_result",
          "data": {
            "text/plain": [
              "Yes    3353\n",
              "No     1757\n",
              "Name: ever_married, dtype: int64"
            ]
          },
          "metadata": {},
          "execution_count": 13
        }
      ]
    },
    {
      "cell_type": "code",
      "source": [
        "df['Residence_type'].value_counts()"
      ],
      "metadata": {
        "colab": {
          "base_uri": "https://localhost:8080/"
        },
        "id": "pU8wcQEdz8hG",
        "outputId": "3af75d70-ca5c-42f9-acca-fa51fe6d5628"
      },
      "execution_count": null,
      "outputs": [
        {
          "output_type": "execute_result",
          "data": {
            "text/plain": [
              "Urban    2596\n",
              "Rural    2514\n",
              "Name: Residence_type, dtype: int64"
            ]
          },
          "metadata": {},
          "execution_count": 14
        }
      ]
    },
    {
      "cell_type": "code",
      "source": [
        "df['smoking_status'].value_counts()"
      ],
      "metadata": {
        "colab": {
          "base_uri": "https://localhost:8080/"
        },
        "id": "f-36i0lL0GqR",
        "outputId": "75d3a14a-0bb7-48a5-a69e-d26fdea7209a"
      },
      "execution_count": null,
      "outputs": [
        {
          "output_type": "execute_result",
          "data": {
            "text/plain": [
              "never smoked       1892\n",
              "Unknown            1544\n",
              "formerly smoked     885\n",
              "smokes              789\n",
              "Name: smoking_status, dtype: int64"
            ]
          },
          "metadata": {},
          "execution_count": 15
        }
      ]
    },
    {
      "cell_type": "code",
      "source": [
        "df['hypertension'].value_counts()"
      ],
      "metadata": {
        "colab": {
          "base_uri": "https://localhost:8080/"
        },
        "id": "yhpRLZOs0P56",
        "outputId": "354bea86-dc4c-448e-ddaf-98ad55f77df8"
      },
      "execution_count": null,
      "outputs": [
        {
          "output_type": "execute_result",
          "data": {
            "text/plain": [
              "0    4612\n",
              "1     498\n",
              "Name: hypertension, dtype: int64"
            ]
          },
          "metadata": {},
          "execution_count": 16
        }
      ]
    },
    {
      "cell_type": "code",
      "source": [
        "df['heart_disease'].value_counts()"
      ],
      "metadata": {
        "colab": {
          "base_uri": "https://localhost:8080/"
        },
        "id": "2Zxpw-Zf0UlO",
        "outputId": "63c2a708-fa5a-41e7-ed74-71d8e8bed971"
      },
      "execution_count": null,
      "outputs": [
        {
          "output_type": "execute_result",
          "data": {
            "text/plain": [
              "0    4834\n",
              "1     276\n",
              "Name: heart_disease, dtype: int64"
            ]
          },
          "metadata": {},
          "execution_count": 17
        }
      ]
    },
    {
      "cell_type": "markdown",
      "source": [
        "No hay datos incosistentes."
      ],
      "metadata": {
        "id": "U2CYSCHq4QVl"
      }
    },
    {
      "cell_type": "code",
      "source": [
        "df['stroke'].value_counts()"
      ],
      "metadata": {
        "colab": {
          "base_uri": "https://localhost:8080/"
        },
        "id": "w9l9OtYn0ZTb",
        "outputId": "b218ab60-399d-41af-bca0-a3c5d37f4ec6"
      },
      "execution_count": null,
      "outputs": [
        {
          "output_type": "execute_result",
          "data": {
            "text/plain": [
              "0    4861\n",
              "1     249\n",
              "Name: stroke, dtype: int64"
            ]
          },
          "metadata": {},
          "execution_count": 18
        }
      ]
    },
    {
      "cell_type": "markdown",
      "source": [
        "Data set desbalanceado."
      ],
      "metadata": {
        "id": "j1BB7z4u0cW0"
      }
    },
    {
      "cell_type": "markdown",
      "source": [
        "### Incosistencias datos numéricos"
      ],
      "metadata": {
        "id": "hJFqeU-f4W2e"
      }
    },
    {
      "cell_type": "code",
      "source": [
        "df.describe()"
      ],
      "metadata": {
        "colab": {
          "base_uri": "https://localhost:8080/",
          "height": 300
        },
        "id": "d2ile0HB0kxw",
        "outputId": "3493d5ae-a9e7-418f-c59e-3069f36b5b9a"
      },
      "execution_count": null,
      "outputs": [
        {
          "output_type": "execute_result",
          "data": {
            "text/plain": [
              "               age  avg_glucose_level          bmi       stroke\n",
              "count  5110.000000        5110.000000  4909.000000  5110.000000\n",
              "mean     43.226614         106.147677    28.893237     0.048728\n",
              "std      22.612647          45.283560     7.854067     0.215320\n",
              "min       0.080000          55.120000    10.300000     0.000000\n",
              "25%      25.000000          77.245000    23.500000     0.000000\n",
              "50%      45.000000          91.885000    28.100000     0.000000\n",
              "75%      61.000000         114.090000    33.100000     0.000000\n",
              "max      82.000000         271.740000    97.600000     1.000000"
            ],
            "text/html": [
              "\n",
              "  <div id=\"df-17e9fcb7-9736-449a-af79-48def457dcf6\">\n",
              "    <div class=\"colab-df-container\">\n",
              "      <div>\n",
              "<style scoped>\n",
              "    .dataframe tbody tr th:only-of-type {\n",
              "        vertical-align: middle;\n",
              "    }\n",
              "\n",
              "    .dataframe tbody tr th {\n",
              "        vertical-align: top;\n",
              "    }\n",
              "\n",
              "    .dataframe thead th {\n",
              "        text-align: right;\n",
              "    }\n",
              "</style>\n",
              "<table border=\"1\" class=\"dataframe\">\n",
              "  <thead>\n",
              "    <tr style=\"text-align: right;\">\n",
              "      <th></th>\n",
              "      <th>age</th>\n",
              "      <th>avg_glucose_level</th>\n",
              "      <th>bmi</th>\n",
              "      <th>stroke</th>\n",
              "    </tr>\n",
              "  </thead>\n",
              "  <tbody>\n",
              "    <tr>\n",
              "      <th>count</th>\n",
              "      <td>5110.000000</td>\n",
              "      <td>5110.000000</td>\n",
              "      <td>4909.000000</td>\n",
              "      <td>5110.000000</td>\n",
              "    </tr>\n",
              "    <tr>\n",
              "      <th>mean</th>\n",
              "      <td>43.226614</td>\n",
              "      <td>106.147677</td>\n",
              "      <td>28.893237</td>\n",
              "      <td>0.048728</td>\n",
              "    </tr>\n",
              "    <tr>\n",
              "      <th>std</th>\n",
              "      <td>22.612647</td>\n",
              "      <td>45.283560</td>\n",
              "      <td>7.854067</td>\n",
              "      <td>0.215320</td>\n",
              "    </tr>\n",
              "    <tr>\n",
              "      <th>min</th>\n",
              "      <td>0.080000</td>\n",
              "      <td>55.120000</td>\n",
              "      <td>10.300000</td>\n",
              "      <td>0.000000</td>\n",
              "    </tr>\n",
              "    <tr>\n",
              "      <th>25%</th>\n",
              "      <td>25.000000</td>\n",
              "      <td>77.245000</td>\n",
              "      <td>23.500000</td>\n",
              "      <td>0.000000</td>\n",
              "    </tr>\n",
              "    <tr>\n",
              "      <th>50%</th>\n",
              "      <td>45.000000</td>\n",
              "      <td>91.885000</td>\n",
              "      <td>28.100000</td>\n",
              "      <td>0.000000</td>\n",
              "    </tr>\n",
              "    <tr>\n",
              "      <th>75%</th>\n",
              "      <td>61.000000</td>\n",
              "      <td>114.090000</td>\n",
              "      <td>33.100000</td>\n",
              "      <td>0.000000</td>\n",
              "    </tr>\n",
              "    <tr>\n",
              "      <th>max</th>\n",
              "      <td>82.000000</td>\n",
              "      <td>271.740000</td>\n",
              "      <td>97.600000</td>\n",
              "      <td>1.000000</td>\n",
              "    </tr>\n",
              "  </tbody>\n",
              "</table>\n",
              "</div>\n",
              "      <button class=\"colab-df-convert\" onclick=\"convertToInteractive('df-17e9fcb7-9736-449a-af79-48def457dcf6')\"\n",
              "              title=\"Convert this dataframe to an interactive table.\"\n",
              "              style=\"display:none;\">\n",
              "        \n",
              "  <svg xmlns=\"http://www.w3.org/2000/svg\" height=\"24px\"viewBox=\"0 0 24 24\"\n",
              "       width=\"24px\">\n",
              "    <path d=\"M0 0h24v24H0V0z\" fill=\"none\"/>\n",
              "    <path d=\"M18.56 5.44l.94 2.06.94-2.06 2.06-.94-2.06-.94-.94-2.06-.94 2.06-2.06.94zm-11 1L8.5 8.5l.94-2.06 2.06-.94-2.06-.94L8.5 2.5l-.94 2.06-2.06.94zm10 10l.94 2.06.94-2.06 2.06-.94-2.06-.94-.94-2.06-.94 2.06-2.06.94z\"/><path d=\"M17.41 7.96l-1.37-1.37c-.4-.4-.92-.59-1.43-.59-.52 0-1.04.2-1.43.59L10.3 9.45l-7.72 7.72c-.78.78-.78 2.05 0 2.83L4 21.41c.39.39.9.59 1.41.59.51 0 1.02-.2 1.41-.59l7.78-7.78 2.81-2.81c.8-.78.8-2.07 0-2.86zM5.41 20L4 18.59l7.72-7.72 1.47 1.35L5.41 20z\"/>\n",
              "  </svg>\n",
              "      </button>\n",
              "      \n",
              "  <style>\n",
              "    .colab-df-container {\n",
              "      display:flex;\n",
              "      flex-wrap:wrap;\n",
              "      gap: 12px;\n",
              "    }\n",
              "\n",
              "    .colab-df-convert {\n",
              "      background-color: #E8F0FE;\n",
              "      border: none;\n",
              "      border-radius: 50%;\n",
              "      cursor: pointer;\n",
              "      display: none;\n",
              "      fill: #1967D2;\n",
              "      height: 32px;\n",
              "      padding: 0 0 0 0;\n",
              "      width: 32px;\n",
              "    }\n",
              "\n",
              "    .colab-df-convert:hover {\n",
              "      background-color: #E2EBFA;\n",
              "      box-shadow: 0px 1px 2px rgba(60, 64, 67, 0.3), 0px 1px 3px 1px rgba(60, 64, 67, 0.15);\n",
              "      fill: #174EA6;\n",
              "    }\n",
              "\n",
              "    [theme=dark] .colab-df-convert {\n",
              "      background-color: #3B4455;\n",
              "      fill: #D2E3FC;\n",
              "    }\n",
              "\n",
              "    [theme=dark] .colab-df-convert:hover {\n",
              "      background-color: #434B5C;\n",
              "      box-shadow: 0px 1px 3px 1px rgba(0, 0, 0, 0.15);\n",
              "      filter: drop-shadow(0px 1px 2px rgba(0, 0, 0, 0.3));\n",
              "      fill: #FFFFFF;\n",
              "    }\n",
              "  </style>\n",
              "\n",
              "      <script>\n",
              "        const buttonEl =\n",
              "          document.querySelector('#df-17e9fcb7-9736-449a-af79-48def457dcf6 button.colab-df-convert');\n",
              "        buttonEl.style.display =\n",
              "          google.colab.kernel.accessAllowed ? 'block' : 'none';\n",
              "\n",
              "        async function convertToInteractive(key) {\n",
              "          const element = document.querySelector('#df-17e9fcb7-9736-449a-af79-48def457dcf6');\n",
              "          const dataTable =\n",
              "            await google.colab.kernel.invokeFunction('convertToInteractive',\n",
              "                                                     [key], {});\n",
              "          if (!dataTable) return;\n",
              "\n",
              "          const docLinkHtml = 'Like what you see? Visit the ' +\n",
              "            '<a target=\"_blank\" href=https://colab.research.google.com/notebooks/data_table.ipynb>data table notebook</a>'\n",
              "            + ' to learn more about interactive tables.';\n",
              "          element.innerHTML = '';\n",
              "          dataTable['output_type'] = 'display_data';\n",
              "          await google.colab.output.renderOutput(dataTable, element);\n",
              "          const docLink = document.createElement('div');\n",
              "          docLink.innerHTML = docLinkHtml;\n",
              "          element.appendChild(docLink);\n",
              "        }\n",
              "      </script>\n",
              "    </div>\n",
              "  </div>\n",
              "  "
            ]
          },
          "metadata": {},
          "execution_count": 19
        }
      ]
    },
    {
      "cell_type": "code",
      "source": [
        "age=df['age']<1\n",
        "age.sum()"
      ],
      "metadata": {
        "colab": {
          "base_uri": "https://localhost:8080/"
        },
        "id": "v9yfzhki2gVI",
        "outputId": "6b83cdea-ca38-4eee-8bdf-fafa68981aca"
      },
      "execution_count": null,
      "outputs": [
        {
          "output_type": "execute_result",
          "data": {
            "text/plain": [
              "43"
            ]
          },
          "metadata": {},
          "execution_count": 20
        }
      ]
    },
    {
      "cell_type": "markdown",
      "source": [
        "No tiene sentido edades decimales, hay 43 valores menores que 1. Cambiaremos todos los valores a números enteros."
      ],
      "metadata": {
        "id": "hrjSASHn1xfn"
      }
    },
    {
      "cell_type": "code",
      "source": [
        "df['age']=df['age'].astype(int)"
      ],
      "metadata": {
        "id": "CqGMUPDm06uW"
      },
      "execution_count": null,
      "outputs": []
    },
    {
      "cell_type": "code",
      "source": [
        "df['age'].describe()"
      ],
      "metadata": {
        "colab": {
          "base_uri": "https://localhost:8080/"
        },
        "id": "BijZQyRU1pTY",
        "outputId": "77c5c99a-6a83-4add-d320-2b906e45923b"
      },
      "execution_count": null,
      "outputs": [
        {
          "output_type": "execute_result",
          "data": {
            "text/plain": [
              "count    5110.000000\n",
              "mean       43.215264\n",
              "std        22.633866\n",
              "min         0.000000\n",
              "25%        25.000000\n",
              "50%        45.000000\n",
              "75%        61.000000\n",
              "max        82.000000\n",
              "Name: age, dtype: float64"
            ]
          },
          "metadata": {},
          "execution_count": 22
        }
      ]
    },
    {
      "cell_type": "markdown",
      "source": [
        "### Correlación"
      ],
      "metadata": {
        "id": "q6-cgJ9g4nf0"
      }
    },
    {
      "cell_type": "code",
      "source": [
        "correlacion=df.corr()\n",
        "import seaborn as sns\n",
        "sns.heatmap(correlacion, cmap = 'Oranges', annot=True)"
      ],
      "metadata": {
        "colab": {
          "base_uri": "https://localhost:8080/",
          "height": 287
        },
        "id": "l4Muqa814pmD",
        "outputId": "d644f2a6-597a-44ee-c102-99a795938fac"
      },
      "execution_count": null,
      "outputs": [
        {
          "output_type": "execute_result",
          "data": {
            "text/plain": [
              "<matplotlib.axes._subplots.AxesSubplot at 0x7fd120557c70>"
            ]
          },
          "metadata": {},
          "execution_count": 23
        },
        {
          "output_type": "display_data",
          "data": {
            "text/plain": [
              "<Figure size 432x288 with 2 Axes>"
            ],
            "image/png": "[encoded data removed]"
          },
          "metadata": {
            "needs_background": "light"
          }
        }
      ]
    },
    {
      "cell_type": "markdown",
      "source": [
        "No hay datos con correlación significativa."
      ],
      "metadata": {
        "id": "gd-pLvXC45xB"
      }
    },
    {
      "cell_type": "markdown",
      "source": [
        "### Manejos datos faltantes"
      ],
      "metadata": {
        "id": "ND74TMdE5I_z"
      }
    },
    {
      "cell_type": "markdown",
      "source": [
        "Tenemos 201 datos faltantes en la columna de índice de masa corporal que representan el 3.93% del total de filas; sin embargo, en la columna \"smoking_status\" que hace referencia a si la persona ha fumado antes o no, hay 1544 (30.41% de los datos) con un estado desconocido, lo que puede significar un problema para la realización de modelos. Se procederá a hacer manejo de ambas columnas."
      ],
      "metadata": {
        "id": "8Igk4NoSO2op"
      }
    },
    {
      "cell_type": "markdown",
      "source": [
        "**'Unknown' en Smoking_status**"
      ],
      "metadata": {
        "id": "8mnoZcbngswT"
      }
    },
    {
      "cell_type": "code",
      "source": [
        "unknown = (df['smoking_status']==\"Unknown\")\n",
        "unknown.sum()"
      ],
      "metadata": {
        "colab": {
          "base_uri": "https://localhost:8080/"
        },
        "id": "oZWhTZFIMA84",
        "outputId": "0a4bf916-f730-4997-9c59-c9c414d270bc"
      },
      "execution_count": null,
      "outputs": [
        {
          "output_type": "execute_result",
          "data": {
            "text/plain": [
              "1544"
            ]
          },
          "metadata": {},
          "execution_count": 24
        }
      ]
    },
    {
      "cell_type": "markdown",
      "source": [
        "Hay 1544 filas cuyo smoking_status es desconocido."
      ],
      "metadata": {
        "id": "ZIdYYDlMMPMs"
      }
    },
    {
      "cell_type": "code",
      "source": [
        "filter_1 = ((df['smoking_status']==\"Unknown\") & (df['age']<12))\n",
        "filter_1.sum()"
      ],
      "metadata": {
        "colab": {
          "base_uri": "https://localhost:8080/"
        },
        "id": "pF05kBrbJgII",
        "outputId": "85bec73f-3877-4b01-973c-c3ae6010a4a4"
      },
      "execution_count": null,
      "outputs": [
        {
          "output_type": "execute_result",
          "data": {
            "text/plain": [
              "521"
            ]
          },
          "metadata": {},
          "execution_count": 25
        }
      ]
    },
    {
      "cell_type": "markdown",
      "source": [
        "521 de los 1544 pacientes con smoking_status desconocido son menores de 12 años. Según la NSDUH (National Survey on Drug Use an Health) en un informe del año 2020, en Estados Unidos hay personas que empiezan a fumar desde los 12 años por lo que basados en esta información el smoking status \"unknown\" de los paciendes menores de 12 años será cambiado por \"never smoked\".\n",
        "\n",
        "Fuente: https://nsduhweb.rti.org/respweb/homepage.cfm\n",
        "\n",
        "Informe: https://www.samhsa.gov/data/sites/default/files/reports/rpt35325/NSDUHFFRPDFWHTMLFiles2020/2020NSDUHFFR1PDFW102121.pdf#page=31&zoom=100,0,97"
      ],
      "metadata": {
        "id": "yajQDnqnP-ov"
      }
    },
    {
      "cell_type": "code",
      "source": [
        "df['smoking_status'].value_counts()"
      ],
      "metadata": {
        "colab": {
          "base_uri": "https://localhost:8080/"
        },
        "id": "3NTwoj1uXXTy",
        "outputId": "8ba04bb1-1cb5-4114-f60d-c535710780ee"
      },
      "execution_count": null,
      "outputs": [
        {
          "output_type": "execute_result",
          "data": {
            "text/plain": [
              "never smoked       1892\n",
              "Unknown            1544\n",
              "formerly smoked     885\n",
              "smokes              789\n",
              "Name: smoking_status, dtype: int64"
            ]
          },
          "metadata": {},
          "execution_count": 26
        }
      ]
    },
    {
      "cell_type": "code",
      "source": [
        "df.loc[filter_1,'smoking_status'] = df.loc[filter_1,'smoking_status'].replace('Unknown', 'never smoked')"
      ],
      "metadata": {
        "id": "jm7tMCuaTfNj"
      },
      "execution_count": null,
      "outputs": []
    },
    {
      "cell_type": "code",
      "source": [
        "df['smoking_status'].value_counts()"
      ],
      "metadata": {
        "colab": {
          "base_uri": "https://localhost:8080/"
        },
        "id": "GcdBJY3-UwcN",
        "outputId": "b9149172-d676-4c0e-e20b-45dcbd01eef3"
      },
      "execution_count": null,
      "outputs": [
        {
          "output_type": "execute_result",
          "data": {
            "text/plain": [
              "never smoked       2413\n",
              "Unknown            1023\n",
              "formerly smoked     885\n",
              "smokes              789\n",
              "Name: smoking_status, dtype: int64"
            ]
          },
          "metadata": {},
          "execution_count": 28
        }
      ]
    },
    {
      "cell_type": "markdown",
      "source": [
        "Aún tenemos 1023 con valor desconocido en la columna 'smoking_status'. Por ahora se dejarán estos valores con 'Unknown' como una categoría."
      ],
      "metadata": {
        "id": "IdhfLUkYbdvw"
      }
    },
    {
      "cell_type": "markdown",
      "source": [
        "**Valores faltantes en 'bmi'**"
      ],
      "metadata": {
        "id": "yocnASgTgz-T"
      }
    },
    {
      "cell_type": "markdown",
      "source": [
        "Los valores faltantes en la columna 'bmi' no son muchos considerando el total de los datos, por lo que serán imputados por el promedio de los mismos."
      ],
      "metadata": {
        "id": "fVxDHJJYkrjc"
      }
    },
    {
      "cell_type": "markdown",
      "source": [
        "División conjuntos de entrenamiento y prueba."
      ],
      "metadata": {
        "id": "_QqbAYjkg742"
      }
    },
    {
      "cell_type": "code",
      "source": [
        "from sklearn.model_selection import train_test_split\n",
        "from sklearn.preprocessing import StandardScaler\n",
        "from sklearn.impute import SimpleImputer"
      ],
      "metadata": {
        "id": "0YnjT5o8hR9L"
      },
      "execution_count": null,
      "outputs": []
    },
    {
      "cell_type": "code",
      "source": [
        "X = df.drop(columns=['stroke'])\n",
        "y = df['stroke']\n",
        "X_train, X_test, y_train, y_test = train_test_split(X, y, random_state=42)"
      ],
      "metadata": {
        "id": "YkMdqIu_hAx5"
      },
      "execution_count": null,
      "outputs": []
    },
    {
      "cell_type": "code",
      "source": [
        "mean_imputer = SimpleImputer(strategy=\"mean\")"
      ],
      "metadata": {
        "id": "3mBBnDrmhza5"
      },
      "execution_count": null,
      "outputs": []
    },
    {
      "cell_type": "code",
      "source": [
        "mean_imputer.fit(X_train[['bmi']])\n",
        "X_train[['bmi']] = mean_imputer.transform(X_train[['bmi']])\n",
        "X_test[['bmi']] = mean_imputer.transform(X_test[['bmi']])"
      ],
      "metadata": {
        "id": "CUtkIsQIkAj5"
      },
      "execution_count": null,
      "outputs": []
    },
    {
      "cell_type": "code",
      "source": [
        "X_train.isna().sum()"
      ],
      "metadata": {
        "colab": {
          "base_uri": "https://localhost:8080/"
        },
        "id": "vXws83UjiQjT",
        "outputId": "8b7292b7-6972-4021-8e09-1922e9ba13f5"
      },
      "execution_count": null,
      "outputs": [
        {
          "output_type": "execute_result",
          "data": {
            "text/plain": [
              "gender               0\n",
              "age                  0\n",
              "hypertension         0\n",
              "heart_disease        0\n",
              "ever_married         0\n",
              "work_type            0\n",
              "Residence_type       0\n",
              "avg_glucose_level    0\n",
              "bmi                  0\n",
              "smoking_status       0\n",
              "dtype: int64"
            ]
          },
          "metadata": {},
          "execution_count": 33
        }
      ]
    },
    {
      "cell_type": "markdown",
      "source": [
        "### Identificación valores atípicos y visualización valores numéricos."
      ],
      "metadata": {
        "id": "p3F5uBcK6gl3"
      }
    },
    {
      "cell_type": "code",
      "source": [
        "columns = X_train.iloc[:,0:10].columns.tolist()\n",
        "i=0\n",
        "for y in columns:\n",
        "  if X_train[y].dtype == 'float64' or X_train[y].dtype == 'int64' :\n",
        "    plt.boxplot(X_train[y])\n",
        "    plt.title(y, size=15)\n",
        "    plt.show()\n",
        "  if X_train[y].dtype == 'float64' or X_train[y].dtype == 'int64' :\n",
        "    plt.hist(X_train[y])\n",
        "    plt.title(y, size=15)\n",
        "    plt.xlabel(y, size=10)\n",
        "    plt.ylabel('Count')\n",
        "    plt.show()"
      ],
      "metadata": {
        "colab": {
          "base_uri": "https://localhost:8080/",
          "height": 1000
        },
        "id": "LVfX2BErwsAA",
        "outputId": "9be8c482-fd36-4527-982f-b1a24c69fd65"
      },
      "execution_count": null,
      "outputs": [
        {
          "output_type": "display_data",
          "data": {
            "text/plain": [
              "<Figure size 432x288 with 1 Axes>"
            ],
            "image/png": "[encoded data removed]"
          },
          "metadata": {
            "needs_background": "light"
          }
        },
        {
          "output_type": "display_data",
          "data": {
            "text/plain": [
              "<Figure size 432x288 with 1 Axes>"
            ],
            "image/png": "[encoded data removed]"
          },
          "metadata": {
            "needs_background": "light"
          }
        },
        {
          "output_type": "display_data",
          "data": {
            "text/plain": [
              "<Figure size 432x288 with 1 Axes>"
            ],
            "image/png": "[encoded data removed]"
          },
          "metadata": {
            "needs_background": "light"
          }
        },
        {
          "output_type": "display_data",
          "data": {
            "text/plain": [
              "<Figure size 432x288 with 1 Axes>"
            ],
            "image/png": "[encoded data removed]"
          },
          "metadata": {
            "needs_background": "light"
          }
        },
        {
          "output_type": "display_data",
          "data": {
            "text/plain": [
              "<Figure size 432x288 with 1 Axes>"
            ],
            "image/png": "[encoded data removed]"
          },
          "metadata": {
            "needs_background": "light"
          }
        },
        {
          "output_type": "display_data",
          "data": {
            "text/plain": [
              "<Figure size 432x288 with 1 Axes>"
            ],
            "image/png": "[encoded data removed]"
          },
          "metadata": {
            "needs_background": "light"
          }
        }
      ]
    },
    {
      "cell_type": "markdown",
      "source": [
        "Existencia de datos atípicos en el indice de masa corporal y en el promedio de glucosa en la sangre."
      ],
      "metadata": {
        "id": "l5nyLdEa9_KF"
      }
    },
    {
      "cell_type": "markdown",
      "source": [
        "### Visualización valores categóricos."
      ],
      "metadata": {
        "id": "r1jf9lYV-G1b"
      }
    },
    {
      "cell_type": "code",
      "source": [
        "grafica1=df['gender'].value_counts()\n",
        "grafica2=df['ever_married'].value_counts()\n",
        "grafica3=df['hypertension'].value_counts()\n",
        "grafica4=df['heart_disease'].value_counts()\n",
        "grafica4"
      ],
      "metadata": {
        "colab": {
          "base_uri": "https://localhost:8080/"
        },
        "id": "pL9tqTus-r-o",
        "outputId": "a7e36cc0-f4e2-4fb6-c12b-33cfe4bfe42a"
      },
      "execution_count": null,
      "outputs": [
        {
          "output_type": "execute_result",
          "data": {
            "text/plain": [
              "0    4834\n",
              "1     276\n",
              "Name: heart_disease, dtype: int64"
            ]
          },
          "metadata": {},
          "execution_count": 35
        }
      ]
    },
    {
      "cell_type": "code",
      "source": [
        "fig1 = plt.figure(dpi=150)\n",
        "ax1 = fig1.add_subplot(1,2,1)\n",
        "ax2 = fig1.add_subplot(1,2,2) \n",
        "\n",
        "ax1.pie(grafica3, autopct='%.2f%%', labels=['- hipert','+ hipert'], colors=['orange','green'])\n",
        "ax2.pie(grafica4, autopct='%.2f%%', labels=['- e.cardiaca','-e.cardiaca'], colors=['orange','green'])\n",
        "plt.show()"
      ],
      "metadata": {
        "colab": {
          "base_uri": "https://localhost:8080/",
          "height": 364
        },
        "id": "rFRaqDEh-QHf",
        "outputId": "f5c82e5b-67d8-4ca6-fb71-e2ce89cf7913"
      },
      "execution_count": null,
      "outputs": [
        {
          "output_type": "display_data",
          "data": {
            "text/plain": [
              "<Figure size 900x600 with 2 Axes>"
            ],
            "image/png": "[encoded data removed]"
          },
          "metadata": {}
        }
      ]
    },
    {
      "cell_type": "code",
      "source": [
        "fig1 = plt.figure(dpi=150)\n",
        "ax1 = fig1.add_subplot(1,2,1)\n",
        "ax2 = fig1.add_subplot(1,2,2) \n",
        "\n",
        "ax1.pie(grafica1, autopct='%.2f%%', labels=['Female','Male','Other'], colors=['orange','green','blue'])\n",
        "ax2.pie(grafica2, autopct='%.2f%%', labels=['Enver married','No married'], colors=['orange','green'])\n",
        "plt.show()"
      ],
      "metadata": {
        "colab": {
          "base_uri": "https://localhost:8080/",
          "height": 364
        },
        "id": "lzJVHcJUCUa7",
        "outputId": "5bd3cc5d-8f83-43e8-d6fb-b17d189aa88d"
      },
      "execution_count": null,
      "outputs": [
        {
          "output_type": "display_data",
          "data": {
            "text/plain": [
              "<Figure size 900x600 with 2 Axes>"
            ],
            "image/png": "[encoded data removed]"
          },
          "metadata": {}
        }
      ]
    },
    {
      "cell_type": "markdown",
      "source": [
        "## Modelos"
      ],
      "metadata": {
        "id": "jFMem87ng_Qo"
      }
    },
    {
      "cell_type": "markdown",
      "source": [
        "## Escalamiento, transformación"
      ],
      "metadata": {
        "id": "91VRX0iVhWGx"
      }
    },
    {
      "cell_type": "code",
      "source": [
        "from sklearn.compose import make_column_selector\n",
        "from sklearn.preprocessing import StandardScaler, OneHotEncoder\n",
        "from sklearn.compose import make_column_transformer"
      ],
      "metadata": {
        "id": "Hlpqh8qmhY_p"
      },
      "execution_count": null,
      "outputs": []
    },
    {
      "cell_type": "code",
      "source": [
        "scaler = StandardScaler()\n",
        "ohe = OneHotEncoder(handle_unknown='ignore', sparse=False)\n",
        "X_train.info()"
      ],
      "metadata": {
        "colab": {
          "base_uri": "https://localhost:8080/"
        },
        "id": "zZ-eugxsiE7h",
        "outputId": "71c2a0ef-49bc-4e1a-d6f5-2b1866802c7f"
      },
      "execution_count": null,
      "outputs": [
        {
          "output_type": "stream",
          "name": "stdout",
          "text": [
            "<class 'pandas.core.frame.DataFrame'>\n",
            "Int64Index: 3832 entries, 4505 to 860\n",
            "Data columns (total 10 columns):\n",
            " #   Column             Non-Null Count  Dtype  \n",
            "---  ------             --------------  -----  \n",
            " 0   gender             3832 non-null   object \n",
            " 1   age                3832 non-null   int64  \n",
            " 2   hypertension       3832 non-null   object \n",
            " 3   heart_disease      3832 non-null   object \n",
            " 4   ever_married       3832 non-null   object \n",
            " 5   work_type          3832 non-null   object \n",
            " 6   Residence_type     3832 non-null   object \n",
            " 7   avg_glucose_level  3832 non-null   float64\n",
            " 8   bmi                3832 non-null   float64\n",
            " 9   smoking_status     3832 non-null   object \n",
            "dtypes: float64(2), int64(1), object(7)\n",
            "memory usage: 329.3+ KB\n"
          ]
        }
      ]
    },
    {
      "cell_type": "code",
      "source": [
        "cat_selector = make_column_selector(dtype_include='object')\n",
        "num_selector = make_column_selector(dtype_include='number')"
      ],
      "metadata": {
        "id": "jy9Rg4-HinMT"
      },
      "execution_count": null,
      "outputs": []
    },
    {
      "cell_type": "code",
      "source": [
        "cat_tuple = (scaler, num_selector)\n",
        "num_tuple = (ohe, cat_selector)\n",
        "col_transformer = make_column_transformer(cat_tuple, num_tuple, remainder = 'passthrough')"
      ],
      "metadata": {
        "id": "jyHUfE8Li2A-"
      },
      "execution_count": null,
      "outputs": []
    },
    {
      "cell_type": "code",
      "source": [
        "col_transformer.fit(X_train)\n",
        "X_train_processed = col_transformer.transform(X_train)\n",
        "X_test_processed = col_transformer.transform(X_test)"
      ],
      "metadata": {
        "id": "XzwOtHlLjKMS"
      },
      "execution_count": null,
      "outputs": []
    },
    {
      "cell_type": "code",
      "source": [
        "X_train_df = pd.DataFrame(X_train_processed)\n",
        "X_test_df = pd.DataFrame(X_test_processed)\n",
        "X_train_df.head()"
      ],
      "metadata": {
        "colab": {
          "base_uri": "https://localhost:8080/",
          "height": 235
        },
        "id": "d5LUGyYCjVAJ",
        "outputId": "13656a20-1e12-482e-ae06-0c660e546045"
      },
      "execution_count": null,
      "outputs": [
        {
          "output_type": "execute_result",
          "data": {
            "text/plain": [
              "         0         1         2    3    4    5    6    7    8    9   ...   12  \\\n",
              "0  0.737032  2.823301  1.926307  1.0  0.0  0.0  1.0  1.0  0.0  0.0  ...  0.0   \n",
              "1 -0.105978 -0.489814 -0.050820  0.0  1.0  1.0  0.0  1.0  0.0  0.0  ...  0.0   \n",
              "2  0.382080 -0.411899  0.209329  0.0  1.0  1.0  0.0  1.0  0.0  0.0  ...  0.0   \n",
              "3  0.515187 -0.941012 -0.141871  1.0  0.0  1.0  0.0  1.0  0.0  0.0  ...  0.0   \n",
              "4  0.515187  0.109289  1.406011  1.0  0.0  1.0  0.0  1.0  0.0  0.0  ...  0.0   \n",
              "\n",
              "    13   14   15   16   17   18   19   20   21  \n",
              "0  1.0  0.0  0.0  0.0  1.0  0.0  0.0  1.0  0.0  \n",
              "1  1.0  0.0  0.0  1.0  0.0  0.0  1.0  0.0  0.0  \n",
              "2  1.0  0.0  0.0  0.0  1.0  0.0  1.0  0.0  0.0  \n",
              "3  1.0  0.0  0.0  1.0  0.0  1.0  0.0  0.0  0.0  \n",
              "4  1.0  0.0  0.0  1.0  0.0  0.0  1.0  0.0  0.0  \n",
              "\n",
              "[5 rows x 22 columns]"
            ],
            "text/html": [
              "\n",
              "  <div id=\"df-ab11fc38-8959-48ed-b409-68d5e9c16b1e\">\n",
              "    <div class=\"colab-df-container\">\n",
              "      <div>\n",
              "<style scoped>\n",
              "    .dataframe tbody tr th:only-of-type {\n",
              "        vertical-align: middle;\n",
              "    }\n",
              "\n",
              "    .dataframe tbody tr th {\n",
              "        vertical-align: top;\n",
              "    }\n",
              "\n",
              "    .dataframe thead th {\n",
              "        text-align: right;\n",
              "    }\n",
              "</style>\n",
              "<table border=\"1\" class=\"dataframe\">\n",
              "  <thead>\n",
              "    <tr style=\"text-align: right;\">\n",
              "      <th></th>\n",
              "      <th>0</th>\n",
              "      <th>1</th>\n",
              "      <th>2</th>\n",
              "      <th>3</th>\n",
              "      <th>4</th>\n",
              "      <th>5</th>\n",
              "      <th>6</th>\n",
              "      <th>7</th>\n",
              "      <th>8</th>\n",
              "      <th>9</th>\n",
              "      <th>...</th>\n",
              "      <th>12</th>\n",
              "      <th>13</th>\n",
              "      <th>14</th>\n",
              "      <th>15</th>\n",
              "      <th>16</th>\n",
              "      <th>17</th>\n",
              "      <th>18</th>\n",
              "      <th>19</th>\n",
              "      <th>20</th>\n",
              "      <th>21</th>\n",
              "    </tr>\n",
              "  </thead>\n",
              "  <tbody>\n",
              "    <tr>\n",
              "      <th>0</th>\n",
              "      <td>0.737032</td>\n",
              "      <td>2.823301</td>\n",
              "      <td>1.926307</td>\n",
              "      <td>1.0</td>\n",
              "      <td>0.0</td>\n",
              "      <td>0.0</td>\n",
              "      <td>1.0</td>\n",
              "      <td>1.0</td>\n",
              "      <td>0.0</td>\n",
              "      <td>0.0</td>\n",
              "      <td>...</td>\n",
              "      <td>0.0</td>\n",
              "      <td>1.0</td>\n",
              "      <td>0.0</td>\n",
              "      <td>0.0</td>\n",
              "      <td>0.0</td>\n",
              "      <td>1.0</td>\n",
              "      <td>0.0</td>\n",
              "      <td>0.0</td>\n",
              "      <td>1.0</td>\n",
              "      <td>0.0</td>\n",
              "    </tr>\n",
              "    <tr>\n",
              "      <th>1</th>\n",
              "      <td>-0.105978</td>\n",
              "      <td>-0.489814</td>\n",
              "      <td>-0.050820</td>\n",
              "      <td>0.0</td>\n",
              "      <td>1.0</td>\n",
              "      <td>1.0</td>\n",
              "      <td>0.0</td>\n",
              "      <td>1.0</td>\n",
              "      <td>0.0</td>\n",
              "      <td>0.0</td>\n",
              "      <td>...</td>\n",
              "      <td>0.0</td>\n",
              "      <td>1.0</td>\n",
              "      <td>0.0</td>\n",
              "      <td>0.0</td>\n",
              "      <td>1.0</td>\n",
              "      <td>0.0</td>\n",
              "      <td>0.0</td>\n",
              "      <td>1.0</td>\n",
              "      <td>0.0</td>\n",
              "      <td>0.0</td>\n",
              "    </tr>\n",
              "    <tr>\n",
              "      <th>2</th>\n",
              "      <td>0.382080</td>\n",
              "      <td>-0.411899</td>\n",
              "      <td>0.209329</td>\n",
              "      <td>0.0</td>\n",
              "      <td>1.0</td>\n",
              "      <td>1.0</td>\n",
              "      <td>0.0</td>\n",
              "      <td>1.0</td>\n",
              "      <td>0.0</td>\n",
              "      <td>0.0</td>\n",
              "      <td>...</td>\n",
              "      <td>0.0</td>\n",
              "      <td>1.0</td>\n",
              "      <td>0.0</td>\n",
              "      <td>0.0</td>\n",
              "      <td>0.0</td>\n",
              "      <td>1.0</td>\n",
              "      <td>0.0</td>\n",
              "      <td>1.0</td>\n",
              "      <td>0.0</td>\n",
              "      <td>0.0</td>\n",
              "    </tr>\n",
              "    <tr>\n",
              "      <th>3</th>\n",
              "      <td>0.515187</td>\n",
              "      <td>-0.941012</td>\n",
              "      <td>-0.141871</td>\n",
              "      <td>1.0</td>\n",
              "      <td>0.0</td>\n",
              "      <td>1.0</td>\n",
              "      <td>0.0</td>\n",
              "      <td>1.0</td>\n",
              "      <td>0.0</td>\n",
              "      <td>0.0</td>\n",
              "      <td>...</td>\n",
              "      <td>0.0</td>\n",
              "      <td>1.0</td>\n",
              "      <td>0.0</td>\n",
              "      <td>0.0</td>\n",
              "      <td>1.0</td>\n",
              "      <td>0.0</td>\n",
              "      <td>1.0</td>\n",
              "      <td>0.0</td>\n",
              "      <td>0.0</td>\n",
              "      <td>0.0</td>\n",
              "    </tr>\n",
              "    <tr>\n",
              "      <th>4</th>\n",
              "      <td>0.515187</td>\n",
              "      <td>0.109289</td>\n",
              "      <td>1.406011</td>\n",
              "      <td>1.0</td>\n",
              "      <td>0.0</td>\n",
              "      <td>1.0</td>\n",
              "      <td>0.0</td>\n",
              "      <td>1.0</td>\n",
              "      <td>0.0</td>\n",
              "      <td>0.0</td>\n",
              "      <td>...</td>\n",
              "      <td>0.0</td>\n",
              "      <td>1.0</td>\n",
              "      <td>0.0</td>\n",
              "      <td>0.0</td>\n",
              "      <td>1.0</td>\n",
              "      <td>0.0</td>\n",
              "      <td>0.0</td>\n",
              "      <td>1.0</td>\n",
              "      <td>0.0</td>\n",
              "      <td>0.0</td>\n",
              "    </tr>\n",
              "  </tbody>\n",
              "</table>\n",
              "<p>5 rows × 22 columns</p>\n",
              "</div>\n",
              "      <button class=\"colab-df-convert\" onclick=\"convertToInteractive('df-ab11fc38-8959-48ed-b409-68d5e9c16b1e')\"\n",
              "              title=\"Convert this dataframe to an interactive table.\"\n",
              "              style=\"display:none;\">\n",
              "        \n",
              "  <svg xmlns=\"http://www.w3.org/2000/svg\" height=\"24px\"viewBox=\"0 0 24 24\"\n",
              "       width=\"24px\">\n",
              "    <path d=\"M0 0h24v24H0V0z\" fill=\"none\"/>\n",
              "    <path d=\"M18.56 5.44l.94 2.06.94-2.06 2.06-.94-2.06-.94-.94-2.06-.94 2.06-2.06.94zm-11 1L8.5 8.5l.94-2.06 2.06-.94-2.06-.94L8.5 2.5l-.94 2.06-2.06.94zm10 10l.94 2.06.94-2.06 2.06-.94-2.06-.94-.94-2.06-.94 2.06-2.06.94z\"/><path d=\"M17.41 7.96l-1.37-1.37c-.4-.4-.92-.59-1.43-.59-.52 0-1.04.2-1.43.59L10.3 9.45l-7.72 7.72c-.78.78-.78 2.05 0 2.83L4 21.41c.39.39.9.59 1.41.59.51 0 1.02-.2 1.41-.59l7.78-7.78 2.81-2.81c.8-.78.8-2.07 0-2.86zM5.41 20L4 18.59l7.72-7.72 1.47 1.35L5.41 20z\"/>\n",
              "  </svg>\n",
              "      </button>\n",
              "      \n",
              "  <style>\n",
              "    .colab-df-container {\n",
              "      display:flex;\n",
              "      flex-wrap:wrap;\n",
              "      gap: 12px;\n",
              "    }\n",
              "\n",
              "    .colab-df-convert {\n",
              "      background-color: #E8F0FE;\n",
              "      border: none;\n",
              "      border-radius: 50%;\n",
              "      cursor: pointer;\n",
              "      display: none;\n",
              "      fill: #1967D2;\n",
              "      height: 32px;\n",
              "      padding: 0 0 0 0;\n",
              "      width: 32px;\n",
              "    }\n",
              "\n",
              "    .colab-df-convert:hover {\n",
              "      background-color: #E2EBFA;\n",
              "      box-shadow: 0px 1px 2px rgba(60, 64, 67, 0.3), 0px 1px 3px 1px rgba(60, 64, 67, 0.15);\n",
              "      fill: #174EA6;\n",
              "    }\n",
              "\n",
              "    [theme=dark] .colab-df-convert {\n",
              "      background-color: #3B4455;\n",
              "      fill: #D2E3FC;\n",
              "    }\n",
              "\n",
              "    [theme=dark] .colab-df-convert:hover {\n",
              "      background-color: #434B5C;\n",
              "      box-shadow: 0px 1px 3px 1px rgba(0, 0, 0, 0.15);\n",
              "      filter: drop-shadow(0px 1px 2px rgba(0, 0, 0, 0.3));\n",
              "      fill: #FFFFFF;\n",
              "    }\n",
              "  </style>\n",
              "\n",
              "      <script>\n",
              "        const buttonEl =\n",
              "          document.querySelector('#df-ab11fc38-8959-48ed-b409-68d5e9c16b1e button.colab-df-convert');\n",
              "        buttonEl.style.display =\n",
              "          google.colab.kernel.accessAllowed ? 'block' : 'none';\n",
              "\n",
              "        async function convertToInteractive(key) {\n",
              "          const element = document.querySelector('#df-ab11fc38-8959-48ed-b409-68d5e9c16b1e');\n",
              "          const dataTable =\n",
              "            await google.colab.kernel.invokeFunction('convertToInteractive',\n",
              "                                                     [key], {});\n",
              "          if (!dataTable) return;\n",
              "\n",
              "          const docLinkHtml = 'Like what you see? Visit the ' +\n",
              "            '<a target=\"_blank\" href=https://colab.research.google.com/notebooks/data_table.ipynb>data table notebook</a>'\n",
              "            + ' to learn more about interactive tables.';\n",
              "          element.innerHTML = '';\n",
              "          dataTable['output_type'] = 'display_data';\n",
              "          await google.colab.output.renderOutput(dataTable, element);\n",
              "          const docLink = document.createElement('div');\n",
              "          docLink.innerHTML = docLinkHtml;\n",
              "          element.appendChild(docLink);\n",
              "        }\n",
              "      </script>\n",
              "    </div>\n",
              "  </div>\n",
              "  "
            ]
          },
          "metadata": {},
          "execution_count": 43
        }
      ]
    },
    {
      "cell_type": "markdown",
      "source": [
        "### Árboles de clasificación"
      ],
      "metadata": {
        "id": "mnMxYN92kEw4"
      }
    },
    {
      "cell_type": "code",
      "source": [
        "from sklearn.tree import DecisionTreeClassifier"
      ],
      "metadata": {
        "id": "QVIXfK9LkFiE"
      },
      "execution_count": null,
      "outputs": []
    },
    {
      "cell_type": "code",
      "source": [
        "dec_tree = DecisionTreeClassifier(random_state = 42)\n",
        "dec_tree.get_params()"
      ],
      "metadata": {
        "colab": {
          "base_uri": "https://localhost:8080/"
        },
        "id": "WnGO5TRfkMJc",
        "outputId": "b67d0bd6-50c6-4939-c997-4430b7b8b422"
      },
      "execution_count": null,
      "outputs": [
        {
          "output_type": "execute_result",
          "data": {
            "text/plain": [
              "{'ccp_alpha': 0.0,\n",
              " 'class_weight': None,\n",
              " 'criterion': 'gini',\n",
              " 'max_depth': None,\n",
              " 'max_features': None,\n",
              " 'max_leaf_nodes': None,\n",
              " 'min_impurity_decrease': 0.0,\n",
              " 'min_samples_leaf': 1,\n",
              " 'min_samples_split': 2,\n",
              " 'min_weight_fraction_leaf': 0.0,\n",
              " 'random_state': 42,\n",
              " 'splitter': 'best'}"
            ]
          },
          "metadata": {},
          "execution_count": 45
        }
      ]
    },
    {
      "cell_type": "code",
      "source": [
        "dec_tree.fit(X_train_df, y_train)\n",
        "dec_tree.get_depth()"
      ],
      "metadata": {
        "colab": {
          "base_uri": "https://localhost:8080/"
        },
        "id": "c_YAq_0KkSQc",
        "outputId": "4855dfcd-e28d-4658-f537-7cb4e5fff1c1"
      },
      "execution_count": null,
      "outputs": [
        {
          "output_type": "execute_result",
          "data": {
            "text/plain": [
              "17"
            ]
          },
          "metadata": {},
          "execution_count": 46
        }
      ]
    },
    {
      "cell_type": "code",
      "source": [
        "dt_predict_train = dec_tree.predict(X_train_df)\n",
        "dt_predict_test = dec_tree.predict(X_test_df)\n",
        "dt_train_score = dec_tree.score(X_train_df, y_train)\n",
        "dt_test_score = dec_tree.score(X_test_df, y_test)\n",
        "print(dt_train_score)\n",
        "print(dt_test_score)"
      ],
      "metadata": {
        "colab": {
          "base_uri": "https://localhost:8080/"
        },
        "id": "HoKKlWLVkWhv",
        "outputId": "bb7d36dd-0797-4a45-bd2e-9e3c499ff3cf"
      },
      "execution_count": null,
      "outputs": [
        {
          "output_type": "stream",
          "name": "stdout",
          "text": [
            "1.0\n",
            "0.9014084507042254\n"
          ]
        }
      ]
    },
    {
      "cell_type": "code",
      "source": [
        "max_depths = range(2,18)\n",
        "train_score_dt = []\n",
        "test_score_dt = []\n",
        "\n",
        "for depth in max_depths:\n",
        "  dec_tree1 = DecisionTreeClassifier(random_state = 42, max_depth=depth)\n",
        "  dec_tree1.fit(X_train_df, y_train)\n",
        "  dt1_predict_train = dec_tree1.predict(X_train_df)\n",
        "  dt1_predict_test = dec_tree1.predict(X_test_df)\n",
        "  dt1_train_score = dec_tree1.score(X_train_df, y_train)\n",
        "  dt1_test_score = dec_tree1.score(X_test_df, y_test)\n",
        "  train_score_dt.append(dt1_train_score)\n",
        "  test_score_dt.append(dt1_test_score)\n",
        "  print('Max Depth: ',depth,' Train socre: ', dt1_train_score,' Test score: ', dt1_test_score)"
      ],
      "metadata": {
        "colab": {
          "base_uri": "https://localhost:8080/"
        },
        "id": "PpcI-sPhkjTf",
        "outputId": "9c22ddd4-6525-4edd-ca21-16f365bb919b"
      },
      "execution_count": null,
      "outputs": [
        {
          "output_type": "stream",
          "name": "stdout",
          "text": [
            "Max Depth:  2  Train socre:  0.9558977035490606  Test score:  0.9374021909233177\n",
            "Max Depth:  3  Train socre:  0.9561586638830898  Test score:  0.9381846635367762\n",
            "Max Depth:  4  Train socre:  0.9577244258872651  Test score:  0.9358372456964006\n",
            "Max Depth:  5  Train socre:  0.9613778705636743  Test score:  0.9295774647887324\n",
            "Max Depth:  6  Train socre:  0.9632045929018789  Test score:  0.9256651017214398\n",
            "Max Depth:  7  Train socre:  0.9668580375782881  Test score:  0.9248826291079812\n",
            "Max Depth:  8  Train socre:  0.9718162839248434  Test score:  0.9194053208137715\n",
            "Max Depth:  9  Train socre:  0.9775574112734864  Test score:  0.9194053208137715\n",
            "Max Depth:  10  Train socre:  0.9835594989561587  Test score:  0.9100156494522692\n",
            "Max Depth:  11  Train socre:  0.9900835073068893  Test score:  0.9021909233176839\n",
            "Max Depth:  12  Train socre:  0.9945198329853863  Test score:  0.9014084507042254\n",
            "Max Depth:  13  Train socre:  0.9966075156576201  Test score:  0.8967136150234741\n",
            "Max Depth:  14  Train socre:  0.9981732776617954  Test score:  0.9014084507042254\n",
            "Max Depth:  15  Train socre:  0.9994780793319415  Test score:  0.8974960876369327\n",
            "Max Depth:  16  Train socre:  0.9997390396659708  Test score:  0.9014084507042254\n",
            "Max Depth:  17  Train socre:  1.0  Test score:  0.9014084507042254\n"
          ]
        }
      ]
    },
    {
      "cell_type": "code",
      "source": [
        "plt.plot(max_depths, train_score_dt, marker='.',markersize=10)\n",
        "plt.plot(max_depths, test_score_dt, marker='.',markersize=10)\n",
        "plt.ylim(bottom=0.85,top=1.05)\n",
        "plt.xlabel('Max_depth',size=12)\n",
        "plt.ylabel('Score',size=12)\n",
        "plt.legend(['Training score','Testing score'])\n",
        "plt.show()"
      ],
      "metadata": {
        "colab": {
          "base_uri": "https://localhost:8080/",
          "height": 286
        },
        "id": "AJZSPRaIkt6u",
        "outputId": "4d782d38-160c-499b-eb10-09361465a4ca"
      },
      "execution_count": null,
      "outputs": [
        {
          "output_type": "display_data",
          "data": {
            "text/plain": [
              "<Figure size 432x288 with 1 Axes>"
            ],
            "image/png": "[encoded data removed]"
          },
          "metadata": {
            "needs_background": "light"
          }
        }
      ]
    },
    {
      "cell_type": "markdown",
      "source": [
        "Mejor test score, max_depth= 3."
      ],
      "metadata": {
        "id": "nuAZ5osalenK"
      }
    },
    {
      "cell_type": "code",
      "source": [
        "dec_tree3 = DecisionTreeClassifier(random_state = 42, max_depth=3)\n",
        "dec_tree3.fit(X_train_df, y_train)\n",
        "dt3_predict_train = dec_tree3.predict(X_train_df)\n",
        "dt3_predict_test = dec_tree3.predict(X_test_df)\n",
        "dt3_train_score = dec_tree3.score(X_train_df, y_train)\n",
        "dt3_test_score = dec_tree3.score(X_test_df, y_test)\n",
        "print(dt3_train_score)\n",
        "print(dt3_test_score)"
      ],
      "metadata": {
        "colab": {
          "base_uri": "https://localhost:8080/"
        },
        "id": "L5Du9i-cl6Dv",
        "outputId": "28066bcf-0a76-473c-f5d1-29dfc3e665b9"
      },
      "execution_count": null,
      "outputs": [
        {
          "output_type": "stream",
          "name": "stdout",
          "text": [
            "0.9561586638830898\n",
            "0.9381846635367762\n"
          ]
        }
      ]
    },
    {
      "cell_type": "code",
      "source": [
        "from sklearn.metrics import accuracy_score, precision_score, recall_score, f1_score, classification_report, ConfusionMatrixDisplay\n",
        "accuracy_dt3 = accuracy_score(y_test, dt3_predict_test)\n",
        "recall_dt3 = recall_score(y_test, dt3_predict_test)\n",
        "precision_dt3 = precision_score(y_test, dt3_predict_test)\n",
        "f1_dt3 = f1_score(y_test, dt3_predict_test)\n",
        "print('accuracy: ',accuracy_dt3, ' recall: ',recall_dt3,' precision: ', precision_dt3, ' f1: ',f1_dt3)"
      ],
      "metadata": {
        "colab": {
          "base_uri": "https://localhost:8080/"
        },
        "id": "N9vsr6V2mfiI",
        "outputId": "b4cfd996-391e-4fa1-c478-a404c04df70e"
      },
      "execution_count": null,
      "outputs": [
        {
          "output_type": "stream",
          "name": "stdout",
          "text": [
            "accuracy:  0.9381846635367762  recall:  0.0375  precision:  0.6  f1:  0.07058823529411765\n"
          ]
        }
      ]
    },
    {
      "cell_type": "code",
      "source": [
        "from sklearn.metrics import confusion_matrix\n",
        "dt_cm = confusion_matrix(y_test, dt3_predict_test)\n",
        "dt_cm_disp = ConfusionMatrixDisplay(dt_cm)\n",
        "ConfusionMatrixDisplay.from_estimator(dec_tree3, X_test_df, y_test, normalize = 'true')\n",
        "dt_cm_disp.plot()\n",
        "plt.show()"
      ],
      "metadata": {
        "colab": {
          "base_uri": "https://localhost:8080/",
          "height": 541
        },
        "id": "tZ6XExH5m_6E",
        "outputId": "477f054b-4eb6-48eb-9a60-7f885fe31216"
      },
      "execution_count": null,
      "outputs": [
        {
          "output_type": "display_data",
          "data": {
            "text/plain": [
              "<Figure size 432x288 with 2 Axes>"
            ],
            "image/png": "[encoded data removed]"
          },
          "metadata": {
            "needs_background": "light"
          }
        },
        {
          "output_type": "display_data",
          "data": {
            "text/plain": [
              "<Figure size 432x288 with 2 Axes>"
            ],
            "image/png": "[encoded data removed]"
          },
          "metadata": {
            "needs_background": "light"
          }
        }
      ]
    },
    {
      "cell_type": "markdown",
      "source": [
        "### K vecinos más cercanos"
      ],
      "metadata": {
        "id": "7px3dBk3n4Xm"
      }
    },
    {
      "cell_type": "code",
      "source": [
        "from sklearn.neighbors import KNeighborsClassifier"
      ],
      "metadata": {
        "id": "mpuMWBF9n-Ea"
      },
      "execution_count": null,
      "outputs": []
    },
    {
      "cell_type": "code",
      "source": [
        "neighbors = range(1,12)\n",
        "train_score_knn = []\n",
        "test_score_knn = []\n",
        "\n",
        "for n in neighbors:\n",
        "  knn = KNeighborsClassifier(n_neighbors=n)\n",
        "  knn.fit(X_train_df, y_train)\n",
        "  knn_predict_train = knn.predict(X_train_df)\n",
        "  knn_predict_test = knn.predict(X_test_df)\n",
        "  knn_train_score = knn.score(X_train_df, y_train)\n",
        "  knn_test_score = knn.score(X_test_df, y_test)\n",
        "  train_score_knn.append(knn_train_score)\n",
        "  test_score_knn.append(knn_test_score)\n",
        "  print('# de vecinos: ',n,' Train score: ', knn_train_score,' Test score', knn_test_score)"
      ],
      "metadata": {
        "colab": {
          "base_uri": "https://localhost:8080/"
        },
        "id": "ovKF7DJPoDVh",
        "outputId": "095d6084-e4f3-4b0e-de26-c71cfa5f6717"
      },
      "execution_count": null,
      "outputs": [
        {
          "output_type": "stream",
          "name": "stdout",
          "text": [
            "# de vecinos:  1  Train score:  1.0  Test score 0.917057902973396\n",
            "# de vecinos:  2  Train score:  0.9595511482254697  Test score 0.9327073552425665\n",
            "# de vecinos:  3  Train score:  0.9582463465553236  Test score 0.9287949921752738\n",
            "# de vecinos:  4  Train score:  0.9569415448851775  Test score 0.9374021909233177\n",
            "# de vecinos:  5  Train score:  0.9572025052192067  Test score 0.9366197183098591\n",
            "# de vecinos:  6  Train score:  0.9566805845511482  Test score 0.9374021909233177\n",
            "# de vecinos:  7  Train score:  0.9566805845511482  Test score 0.9358372456964006\n",
            "# de vecinos:  8  Train score:  0.9561586638830898  Test score 0.9374021909233177\n",
            "# de vecinos:  9  Train score:  0.9556367432150313  Test score 0.9374021909233177\n",
            "# de vecinos:  10  Train score:  0.9558977035490606  Test score 0.9374021909233177\n",
            "# de vecinos:  11  Train score:  0.9558977035490606  Test score 0.9374021909233177\n"
          ]
        }
      ]
    },
    {
      "cell_type": "code",
      "source": [
        "plt.plot(neighbors, train_score_knn)\n",
        "plt.plot(neighbors, test_score_knn)\n",
        "plt.ylim(bottom=0.85,top=1)\n",
        "plt.xlabel('n_neighbors',size=12)\n",
        "plt.ylabel('Score',size=12)\n",
        "plt.legend(['Training score','Testing score'])\n",
        "plt.show()"
      ],
      "metadata": {
        "colab": {
          "base_uri": "https://localhost:8080/",
          "height": 286
        },
        "id": "OIzbSGLFokcb",
        "outputId": "9ea827f0-31fd-4d93-f0d8-495eb65371b1"
      },
      "execution_count": null,
      "outputs": [
        {
          "output_type": "display_data",
          "data": {
            "text/plain": [
              "<Figure size 432x288 with 1 Axes>"
            ],
            "image/png": "[encoded data removed]"
          },
          "metadata": {
            "needs_background": "light"
          }
        }
      ]
    },
    {
      "cell_type": "markdown",
      "source": [
        "mejor n_neighbors = 4"
      ],
      "metadata": {
        "id": "nSfAS9K5pJYz"
      }
    },
    {
      "cell_type": "code",
      "source": [
        "knn4 = KNeighborsClassifier(n_neighbors=4)\n",
        "knn4.fit(X_train_df, y_train)\n",
        "knn4_train = knn4.predict(X_train_df)\n",
        "knn4_predict_test = knn4.predict(X_test_df)\n",
        "knn4_train_score = knn4.score(X_train_df, y_train)\n",
        "knn4_test_score = knn4.score(X_test_df, y_test)\n",
        "print(knn4_train_score)\n",
        "print(knn4_test_score)"
      ],
      "metadata": {
        "colab": {
          "base_uri": "https://localhost:8080/"
        },
        "id": "aeI7THt3pPZu",
        "outputId": "a2de4891-2085-44dc-8884-4a7712846a00"
      },
      "execution_count": null,
      "outputs": [
        {
          "output_type": "stream",
          "name": "stdout",
          "text": [
            "0.9569415448851775\n",
            "0.9374021909233177\n"
          ]
        }
      ]
    },
    {
      "cell_type": "code",
      "source": [
        "accuracy_knn = accuracy_score(y_test, knn4_predict_test)\n",
        "recall_knn = recall_score(y_test, knn4_predict_test)\n",
        "precision_knn = precision_score(y_test, knn4_predict_test)\n",
        "f1_knn = f1_score(y_test, knn4_predict_test)\n",
        "print('accuracy: ',accuracy_knn, ' recall: ',recall_knn,' precision: ', precision_knn,' f1: ',f1_knn)\n",
        "#Error porque hay una división por 0."
      ],
      "metadata": {
        "colab": {
          "base_uri": "https://localhost:8080/"
        },
        "id": "OUYv9c0zpZsR",
        "outputId": "e49ca306-5c7f-402a-b788-44e556a35b2e"
      },
      "execution_count": null,
      "outputs": [
        {
          "output_type": "stream",
          "name": "stdout",
          "text": [
            "accuracy:  0.9374021909233177  recall:  0.0  precision:  0.0  f1:  0.0\n"
          ]
        },
        {
          "output_type": "stream",
          "name": "stderr",
          "text": [
            "/usr/local/lib/python3.8/dist-packages/sklearn/metrics/_classification.py:1318: UndefinedMetricWarning: Precision is ill-defined and being set to 0.0 due to no predicted samples. Use `zero_division` parameter to control this behavior.\n",
            "  _warn_prf(average, modifier, msg_start, len(result))\n"
          ]
        }
      ]
    },
    {
      "cell_type": "code",
      "source": [
        "knn_cm = confusion_matrix(y_test, knn4_predict_test)\n",
        "knn_cm_disp = ConfusionMatrixDisplay(knn_cm)\n",
        "ConfusionMatrixDisplay.from_estimator(knn4, X_test_df, y_test, normalize = 'true')\n",
        "knn_cm_disp.plot()\n",
        "plt.show()"
      ],
      "metadata": {
        "colab": {
          "base_uri": "https://localhost:8080/",
          "height": 545
        },
        "id": "SF6aL3VHpqBu",
        "outputId": "a5285a6a-bf3f-47d5-99b7-99f310a45fbf"
      },
      "execution_count": null,
      "outputs": [
        {
          "output_type": "display_data",
          "data": {
            "text/plain": [
              "<Figure size 432x288 with 2 Axes>"
            ],
            "image/png": "[encoded data removed]"
          },
          "metadata": {
            "needs_background": "light"
          }
        },
        {
          "output_type": "display_data",
          "data": {
            "text/plain": [
              "<Figure size 432x288 with 2 Axes>"
            ],
            "image/png": "[encoded data removed]"
          },
          "metadata": {
            "needs_background": "light"
          }
        }
      ]
    },
    {
      "cell_type": "markdown",
      "source": [
        "### Regresión logística"
      ],
      "metadata": {
        "id": "8UJgX8eXqvTw"
      }
    },
    {
      "cell_type": "code",
      "source": [
        "from sklearn.linear_model import LogisticRegression"
      ],
      "metadata": {
        "id": "q4DLEVFHqurZ"
      },
      "execution_count": null,
      "outputs": []
    },
    {
      "cell_type": "code",
      "source": [
        "lr = LogisticRegression()\n",
        "lr.fit(X_train_df, y_train)\n",
        "lr_predict_train = lr.predict(X_train_df)\n",
        "lr_predict_test = lr.predict(X_test_df)\n",
        "lr_train_score = lr.score(X_train_df, y_train)\n",
        "lr_test_score = lr.score(X_test_df, y_test)\n",
        "print(lr_train_score, lr_test_score)"
      ],
      "metadata": {
        "colab": {
          "base_uri": "https://localhost:8080/"
        },
        "id": "htjpUTO2q80h",
        "outputId": "2dad4961-dbc2-4eb4-ee91-2c93be6cdaca"
      },
      "execution_count": null,
      "outputs": [
        {
          "output_type": "stream",
          "name": "stdout",
          "text": [
            "0.9558977035490606 0.9381846635367762\n"
          ]
        }
      ]
    },
    {
      "cell_type": "code",
      "source": [
        "accuracy_lr = accuracy_score(y_test, lr_predict_test)\n",
        "recall_lr = recall_score(y_test, lr_predict_test)\n",
        "precision_lr = precision_score(y_test, lr_predict_test)\n",
        "f1_lr = f1_score(y_test, lr_predict_test)\n",
        "print('accuracy: ',accuracy_lr, ' recall: ',recall_lr,' precision: ', precision_lr, ' f1: ',f1_lr)"
      ],
      "metadata": {
        "colab": {
          "base_uri": "https://localhost:8080/"
        },
        "id": "EilIsRtTq_s2",
        "outputId": "5555d397-5d44-467c-812b-62460f957936"
      },
      "execution_count": null,
      "outputs": [
        {
          "output_type": "stream",
          "name": "stdout",
          "text": [
            "accuracy:  0.9381846635367762  recall:  0.0125  precision:  1.0  f1:  0.02469135802469136\n"
          ]
        }
      ]
    },
    {
      "cell_type": "code",
      "source": [
        "lr_cm = confusion_matrix(y_test, lr_predict_test)\n",
        "lr_cm_disp = ConfusionMatrixDisplay(lr_cm)\n",
        "ConfusionMatrixDisplay.from_estimator(lr, X_test_df, y_test, normalize = 'true')\n",
        "lr_cm_disp.plot()\n",
        "plt.show()"
      ],
      "metadata": {
        "colab": {
          "base_uri": "https://localhost:8080/",
          "height": 545
        },
        "id": "eG0zcj2erKm9",
        "outputId": "5dfa43b3-b072-4c31-942c-362b4caf79cd"
      },
      "execution_count": null,
      "outputs": [
        {
          "output_type": "display_data",
          "data": {
            "text/plain": [
              "<Figure size 432x288 with 2 Axes>"
            ],
            "image/png": "[encoded data removed]"
          },
          "metadata": {
            "needs_background": "light"
          }
        },
        {
          "output_type": "display_data",
          "data": {
            "text/plain": [
              "<Figure size 432x288 with 2 Axes>"
            ],
            "image/png": "[encoded data removed]"
          },
          "metadata": {
            "needs_background": "light"
          }
        }
      ]
    },
    {
      "cell_type": "code",
      "source": [
        "c_values = [0.0001, 0.001, 0.01, 0.1, 1, 10, 100, 1000]\n",
        "train_score_lr1 = []\n",
        "test_score_lr1 = []\n",
        "\n",
        "for c in c_values:\n",
        "  log_reg1 = LogisticRegression(C=c, max_iter=1000, solver='liblinear', penalty='l1')\n",
        "  log_reg1.fit(X_train_df, y_train)\n",
        "  lr1_train_score = log_reg1.score(X_train_df, y_train)\n",
        "  lr1_test_score = log_reg1.score(X_test_df, y_test)\n",
        "  train_score_lr1.append(lr1_train_score)\n",
        "  test_score_lr1.append(lr1_test_score)\n",
        "  \n",
        "  print('c: ',c,' Train score: ', lr1_train_score,' Test score', lr1_test_score)"
      ],
      "metadata": {
        "colab": {
          "base_uri": "https://localhost:8080/"
        },
        "id": "esa4S9zvruol",
        "outputId": "b23b8b57-dcba-414b-ce5e-f9a8b7c58617"
      },
      "execution_count": null,
      "outputs": [
        {
          "output_type": "stream",
          "name": "stdout",
          "text": [
            "c:  0.0001  Train score:  0.9558977035490606  Test score 0.9374021909233177\n",
            "c:  0.001  Train score:  0.9558977035490606  Test score 0.9374021909233177\n",
            "c:  0.01  Train score:  0.9558977035490606  Test score 0.9374021909233177\n",
            "c:  0.1  Train score:  0.9558977035490606  Test score 0.9374021909233177\n",
            "c:  1  Train score:  0.9558977035490606  Test score 0.9381846635367762\n",
            "c:  10  Train score:  0.9558977035490606  Test score 0.9381846635367762\n",
            "c:  100  Train score:  0.9558977035490606  Test score 0.9381846635367762\n",
            "c:  1000  Train score:  0.9558977035490606  Test score 0.9381846635367762\n"
          ]
        }
      ]
    },
    {
      "cell_type": "code",
      "source": [
        "c_values = [0.0001, 0.001, 0.01, 0.1, 1, 10, 100, 1000]\n",
        "train_score_lr2 = []\n",
        "test_score_lr2 = []\n",
        "\n",
        "for c in c_values:\n",
        "  log_reg2 = LogisticRegression(C=c, max_iter=1000, solver='liblinear', penalty='l2')\n",
        "  log_reg2.fit(X_train_df, y_train)\n",
        "  lr2_train_score = log_reg2.score(X_train_df, y_train)\n",
        "  lr2_test_score = log_reg2.score(X_test_df, y_test)\n",
        "  train_score_lr2.append(lr2_train_score)\n",
        "  test_score_lr2.append(lr2_test_score)\n",
        "  \n",
        "  print('c: ',c,' Train score: ', lr2_train_score,' Test score', lr2_test_score)"
      ],
      "metadata": {
        "colab": {
          "base_uri": "https://localhost:8080/"
        },
        "id": "kM9lszMvtK8U",
        "outputId": "9e257118-a2e9-438a-b961-66f1e2a34451"
      },
      "execution_count": null,
      "outputs": [
        {
          "output_type": "stream",
          "name": "stdout",
          "text": [
            "c:  0.0001  Train score:  0.9558977035490606  Test score 0.9374021909233177\n",
            "c:  0.001  Train score:  0.9558977035490606  Test score 0.9374021909233177\n",
            "c:  0.01  Train score:  0.9558977035490606  Test score 0.9374021909233177\n",
            "c:  0.1  Train score:  0.9558977035490606  Test score 0.9374021909233177\n",
            "c:  1  Train score:  0.9558977035490606  Test score 0.9381846635367762\n",
            "c:  10  Train score:  0.9558977035490606  Test score 0.9381846635367762\n",
            "c:  100  Train score:  0.9558977035490606  Test score 0.9381846635367762\n",
            "c:  1000  Train score:  0.9558977035490606  Test score 0.9381846635367762\n"
          ]
        }
      ]
    },
    {
      "cell_type": "markdown",
      "source": [
        "Con la afinación de los hiperparametros nada cambia."
      ],
      "metadata": {
        "id": "4l02Rr1Mt5ee"
      }
    },
    {
      "cell_type": "markdown",
      "source": [
        "### Bagged Trees"
      ],
      "metadata": {
        "id": "I-sfKO6UvdL0"
      }
    },
    {
      "cell_type": "code",
      "source": [
        "from sklearn.ensemble import BaggingClassifier"
      ],
      "metadata": {
        "id": "46_mkq_Uuh22"
      },
      "execution_count": null,
      "outputs": []
    },
    {
      "cell_type": "code",
      "source": [
        "bagreg = BaggingClassifier(random_state = 42)\n",
        "bagreg.get_params()"
      ],
      "metadata": {
        "colab": {
          "base_uri": "https://localhost:8080/"
        },
        "id": "Sape1XcmulCl",
        "outputId": "a0abc7c2-9695-411d-854e-629bed67b309"
      },
      "execution_count": null,
      "outputs": [
        {
          "output_type": "execute_result",
          "data": {
            "text/plain": [
              "{'base_estimator': None,\n",
              " 'bootstrap': True,\n",
              " 'bootstrap_features': False,\n",
              " 'max_features': 1.0,\n",
              " 'max_samples': 1.0,\n",
              " 'n_estimators': 10,\n",
              " 'n_jobs': None,\n",
              " 'oob_score': False,\n",
              " 'random_state': 42,\n",
              " 'verbose': 0,\n",
              " 'warm_start': False}"
            ]
          },
          "metadata": {},
          "execution_count": 66
        }
      ]
    },
    {
      "cell_type": "code",
      "source": [
        "bagreg.fit(X_train_df, y_train)\n",
        "bagreg_predict_train = bagreg.predict(X_train_df)\n",
        "bagreg_predict_test = bagreg.predict(X_test_df)\n",
        "bagreg_train_score = bagreg.score(X_train_df, y_train)\n",
        "bagreg_test_score = bagreg.score(X_test_df, y_test)\n",
        "print(bagreg_train_score)\n",
        "print(bagreg_test_score)"
      ],
      "metadata": {
        "colab": {
          "base_uri": "https://localhost:8080/"
        },
        "id": "uGiyGbZgu1L8",
        "outputId": "9a0f43aa-25ee-4ba2-ad1a-062c2f4d0f67"
      },
      "execution_count": null,
      "outputs": [
        {
          "output_type": "stream",
          "name": "stdout",
          "text": [
            "0.9926931106471816\n",
            "0.935054773082942\n"
          ]
        }
      ]
    },
    {
      "cell_type": "code",
      "source": [
        "estimators = (10,30,50,70,100,120,150)\n",
        "train_score_bt = []\n",
        "test_score_bt = []\n",
        "\n",
        "for e in estimators:\n",
        "  bt1 = BaggingClassifier(random_state = 42, n_estimators=e)\n",
        "  bt1.fit(X_train_df, y_train)\n",
        "  bt1_predict_train = bt1.predict(X_train_df)\n",
        "  bt1_predict_test = bt1.predict(X_test_df)\n",
        "  bt1_train_score = bt1.score(X_train_df, y_train)\n",
        "  bt1_test_score = bt1.score(X_test_df, y_test)\n",
        "  train_score_bt.append(bt1_train_score)\n",
        "  test_score_bt.append(bt1_test_score)\n",
        "  print('Estimators: ',e,' Train socre: ', bt1_train_score,' Test score: ', bt1_test_score)"
      ],
      "metadata": {
        "colab": {
          "base_uri": "https://localhost:8080/"
        },
        "id": "BT-hfmvmvpj0",
        "outputId": "0f42f653-17c7-4b43-90f1-7612841c1ca2"
      },
      "execution_count": null,
      "outputs": [
        {
          "output_type": "stream",
          "name": "stdout",
          "text": [
            "Estimators:  10  Train socre:  0.9926931106471816  Test score:  0.935054773082942\n",
            "Estimators:  30  Train socre:  0.9979123173277662  Test score:  0.9381846635367762\n",
            "Estimators:  50  Train socre:  1.0  Test score:  0.9381846635367762\n",
            "Estimators:  70  Train socre:  0.9997390396659708  Test score:  0.9366197183098591\n",
            "Estimators:  100  Train socre:  1.0  Test score:  0.9366197183098591\n",
            "Estimators:  120  Train socre:  1.0  Test score:  0.9366197183098591\n",
            "Estimators:  150  Train socre:  1.0  Test score:  0.9374021909233177\n"
          ]
        }
      ]
    },
    {
      "cell_type": "markdown",
      "source": [
        "Mejor test score, n estimators= 50."
      ],
      "metadata": {
        "id": "KIkx_hn9x-j8"
      }
    },
    {
      "cell_type": "code",
      "source": [
        "plt.plot(estimators, train_score_bt, marker='.',markersize=10)\n",
        "plt.plot(estimators, test_score_bt, marker='.',markersize=10)\n",
        "plt.ylim(bottom=0.85,top=1.05)\n",
        "plt.xlabel('N estimators',size=12)\n",
        "plt.ylabel('Score',size=12)\n",
        "plt.legend(['Training score','Testing score'])\n",
        "plt.show()"
      ],
      "metadata": {
        "colab": {
          "base_uri": "https://localhost:8080/",
          "height": 286
        },
        "id": "_SDc9mJVyHH5",
        "outputId": "26a3ac07-227b-4e3a-afab-4d50fb2eb020"
      },
      "execution_count": null,
      "outputs": [
        {
          "output_type": "display_data",
          "data": {
            "text/plain": [
              "<Figure size 432x288 with 1 Axes>"
            ],
            "image/png": "[encoded data removed]"
          },
          "metadata": {
            "needs_background": "light"
          }
        }
      ]
    },
    {
      "cell_type": "code",
      "source": [
        "bt50 = BaggingClassifier(random_state = 42, n_estimators=50)\n",
        "bt50.fit(X_train_df, y_train)\n",
        "bt50_predict_train = bt50.predict(X_train_df)\n",
        "bt50_predict_test = bt50.predict(X_test_df)\n",
        "bt50_train_score = bt50.score(X_train_df, y_train)\n",
        "bt50_test_score = bt50.score(X_test_df, y_test)\n",
        "print(bt50_train_score)\n",
        "print(bt50_test_score)"
      ],
      "metadata": {
        "colab": {
          "base_uri": "https://localhost:8080/"
        },
        "id": "8oLe8jw_yqPf",
        "outputId": "a108f565-02f4-43de-fa9f-771fedeab5fb"
      },
      "execution_count": null,
      "outputs": [
        {
          "output_type": "stream",
          "name": "stdout",
          "text": [
            "1.0\n",
            "0.9381846635367762\n"
          ]
        }
      ]
    },
    {
      "cell_type": "code",
      "source": [
        "accuracy_bt50 = accuracy_score(y_test, bt50_predict_test)\n",
        "recall_bt50 = recall_score(y_test, bt50_predict_test)\n",
        "precision_bt50 = precision_score(y_test, bt50_predict_test)\n",
        "f1_bt50 = f1_score(y_test, bt50_predict_test)\n",
        "print('accuracy: ',accuracy_bt50, ' recall: ',recall_bt50,' precision: ', precision_bt50, ' f1: ',f1_bt50)"
      ],
      "metadata": {
        "colab": {
          "base_uri": "https://localhost:8080/"
        },
        "id": "Oj_wau4XyhuO",
        "outputId": "6701186c-7abc-42e3-9e73-8d96e9112480"
      },
      "execution_count": null,
      "outputs": [
        {
          "output_type": "stream",
          "name": "stdout",
          "text": [
            "accuracy:  0.9381846635367762  recall:  0.025  precision:  0.6666666666666666  f1:  0.04819277108433735\n"
          ]
        }
      ]
    },
    {
      "cell_type": "code",
      "source": [
        "bt_cm = confusion_matrix(y_test, bt50_predict_test)\n",
        "bt_cm_disp = ConfusionMatrixDisplay(bt_cm)\n",
        "ConfusionMatrixDisplay.from_estimator(bt50, X_test_df, y_test, normalize = 'true')\n",
        "bt_cm_disp.plot()\n",
        "plt.show()"
      ],
      "metadata": {
        "colab": {
          "base_uri": "https://localhost:8080/",
          "height": 541
        },
        "id": "KS4aOOKxzcUD",
        "outputId": "805f3f7b-9040-4d25-a0de-590419c85983"
      },
      "execution_count": null,
      "outputs": [
        {
          "output_type": "display_data",
          "data": {
            "text/plain": [
              "<Figure size 432x288 with 2 Axes>"
            ],
            "image/png": "[encoded data removed]"
          },
          "metadata": {
            "needs_background": "light"
          }
        },
        {
          "output_type": "display_data",
          "data": {
            "text/plain": [
              "<Figure size 432x288 with 2 Axes>"
            ],
            "image/png": "[encoded data removed]"
          },
          "metadata": {
            "needs_background": "light"
          }
        }
      ]
    },
    {
      "cell_type": "markdown",
      "source": [
        "### Random Forest"
      ],
      "metadata": {
        "id": "bbUPIrH1zzKC"
      }
    },
    {
      "cell_type": "code",
      "source": [
        "from sklearn.ensemble import RandomForestClassifier"
      ],
      "metadata": {
        "id": "WNULzwucz5vg"
      },
      "execution_count": null,
      "outputs": []
    },
    {
      "cell_type": "code",
      "source": [
        "rf = RandomForestClassifier(random_state = 42)\n",
        "rf.get_params()"
      ],
      "metadata": {
        "colab": {
          "base_uri": "https://localhost:8080/"
        },
        "id": "hU3LGjjuz9ph",
        "outputId": "a86158de-a101-4e48-c503-45187ad63f63"
      },
      "execution_count": null,
      "outputs": [
        {
          "output_type": "execute_result",
          "data": {
            "text/plain": [
              "{'bootstrap': True,\n",
              " 'ccp_alpha': 0.0,\n",
              " 'class_weight': None,\n",
              " 'criterion': 'gini',\n",
              " 'max_depth': None,\n",
              " 'max_features': 'auto',\n",
              " 'max_leaf_nodes': None,\n",
              " 'max_samples': None,\n",
              " 'min_impurity_decrease': 0.0,\n",
              " 'min_samples_leaf': 1,\n",
              " 'min_samples_split': 2,\n",
              " 'min_weight_fraction_leaf': 0.0,\n",
              " 'n_estimators': 100,\n",
              " 'n_jobs': None,\n",
              " 'oob_score': False,\n",
              " 'random_state': 42,\n",
              " 'verbose': 0,\n",
              " 'warm_start': False}"
            ]
          },
          "metadata": {},
          "execution_count": 74
        }
      ]
    },
    {
      "cell_type": "code",
      "source": [
        "rf.fit(X_train_df, y_train)\n",
        "rf_predict_train = rf.predict(X_train_df)\n",
        "rf_predict_test = rf.predict(X_test_df)\n",
        "rf_train_score = rf.score(X_train_df, y_train)\n",
        "rf_test_score = rf.score(X_test_df, y_test)\n",
        "print(rf_train_score)\n",
        "print(rf_test_score)"
      ],
      "metadata": {
        "colab": {
          "base_uri": "https://localhost:8080/"
        },
        "id": "ioMP0u4H0Km4",
        "outputId": "7f09a270-518c-47c0-eb01-a14488e53d62"
      },
      "execution_count": null,
      "outputs": [
        {
          "output_type": "stream",
          "name": "stdout",
          "text": [
            "1.0\n",
            "0.9374021909233177\n"
          ]
        }
      ]
    },
    {
      "cell_type": "code",
      "source": [
        "estimators_rf = (10,30,50,70,100,120,150)\n",
        "train_score_rf = []\n",
        "test_score_rf = []\n",
        "\n",
        "for e_rf in estimators_rf:\n",
        "  rf1 = RandomForestClassifier(random_state = 42, n_estimators=e_rf)\n",
        "  rf1.fit(X_train_df, y_train)\n",
        "  rf1_predict_train = rf1.predict(X_train_df)\n",
        "  rf1_predict_test = rf1.predict(X_test_df)\n",
        "  rf1_train_score = rf1.score(X_train_df, y_train)\n",
        "  rf1_test_score = rf1.score(X_test_df, y_test)\n",
        "  train_score_rf.append(rf1_train_score)\n",
        "  test_score_rf.append(rf1_test_score)\n",
        "  print('Estimators: ',e_rf,' Train socre: ', rf1_train_score,' Test score: ', rf1_test_score)"
      ],
      "metadata": {
        "colab": {
          "base_uri": "https://localhost:8080/"
        },
        "id": "EXIrsHo50cWZ",
        "outputId": "77ed9d96-ddbf-4020-eb3c-96a00f765fd6"
      },
      "execution_count": null,
      "outputs": [
        {
          "output_type": "stream",
          "name": "stdout",
          "text": [
            "Estimators:  10  Train socre:  0.9926931106471816  Test score:  0.935054773082942\n",
            "Estimators:  30  Train socre:  0.9979123173277662  Test score:  0.9374021909233177\n",
            "Estimators:  50  Train socre:  0.9997390396659708  Test score:  0.9374021909233177\n",
            "Estimators:  70  Train socre:  1.0  Test score:  0.9374021909233177\n",
            "Estimators:  100  Train socre:  1.0  Test score:  0.9374021909233177\n",
            "Estimators:  120  Train socre:  1.0  Test score:  0.9381846635367762\n",
            "Estimators:  150  Train socre:  1.0  Test score:  0.9381846635367762\n"
          ]
        }
      ]
    },
    {
      "cell_type": "code",
      "source": [
        "plt.plot(estimators_rf, train_score_rf, marker='.',markersize=10)\n",
        "plt.plot(estimators_rf, test_score_rf, marker='.',markersize=10)\n",
        "plt.ylim(bottom=0.85,top=1.05)\n",
        "plt.xlabel('N estimators',size=12)\n",
        "plt.ylabel('Score',size=12)\n",
        "plt.legend(['Training score','Testing score'])\n",
        "plt.show()"
      ],
      "metadata": {
        "colab": {
          "base_uri": "https://localhost:8080/",
          "height": 286
        },
        "id": "yynDd5e_1RoR",
        "outputId": "54ac196d-1e99-4475-b1ff-925e83b5bad1"
      },
      "execution_count": null,
      "outputs": [
        {
          "output_type": "display_data",
          "data": {
            "text/plain": [
              "<Figure size 432x288 with 1 Axes>"
            ],
            "image/png": "[encoded data removed]"
          },
          "metadata": {
            "needs_background": "light"
          }
        }
      ]
    },
    {
      "cell_type": "markdown",
      "source": [
        "Mejor test score, n estimators= 120"
      ],
      "metadata": {
        "id": "CVkM-jhe1gSR"
      }
    },
    {
      "cell_type": "code",
      "source": [
        "rf120 = RandomForestClassifier(random_state = 42, n_estimators=120)\n",
        "rf120.fit(X_train_df, y_train)\n",
        "rf120_predict_train = rf120.predict(X_train_df)\n",
        "rf120_predict_test = rf120.predict(X_test_df)\n",
        "rf120_train_score = rf120.score(X_train_df, y_train)\n",
        "rf120_test_score = rf120.score(X_test_df, y_test)\n",
        "print(rf120_train_score)\n",
        "print(rf120_test_score)"
      ],
      "metadata": {
        "colab": {
          "base_uri": "https://localhost:8080/"
        },
        "id": "mJTM140p1m2Y",
        "outputId": "e382e302-9724-464a-af1a-8138415b53c9"
      },
      "execution_count": null,
      "outputs": [
        {
          "output_type": "stream",
          "name": "stdout",
          "text": [
            "1.0\n",
            "0.9381846635367762\n"
          ]
        }
      ]
    },
    {
      "cell_type": "code",
      "source": [
        "accuracy_rf120 = accuracy_score(y_test, rf120_predict_test)\n",
        "recall_rf120 = recall_score(y_test, rf120_predict_test)\n",
        "precision_rf120 = precision_score(y_test, rf120_predict_test)\n",
        "f1_rf120 = f1_score(y_test, rf120_predict_test)\n",
        "print('accuracy: ',accuracy_rf120, ' recall: ',recall_rf120,' precision: ', precision_rf120, ' f1: ',f1_rf120)"
      ],
      "metadata": {
        "colab": {
          "base_uri": "https://localhost:8080/"
        },
        "id": "wuAtAH4518Zf",
        "outputId": "5dc0e952-1457-42dd-c251-3181a575bbc5"
      },
      "execution_count": null,
      "outputs": [
        {
          "output_type": "stream",
          "name": "stdout",
          "text": [
            "accuracy:  0.9381846635367762  recall:  0.025  precision:  0.6666666666666666  f1:  0.04819277108433735\n"
          ]
        }
      ]
    },
    {
      "cell_type": "code",
      "source": [
        "rf_cm = confusion_matrix(y_test, rf120_predict_test)\n",
        "rf_cm_disp = ConfusionMatrixDisplay(rf_cm)\n",
        "ConfusionMatrixDisplay.from_estimator(rf120, X_test_df, y_test, normalize = 'true')\n",
        "rf_cm_disp.plot()\n",
        "plt.show()"
      ],
      "metadata": {
        "colab": {
          "base_uri": "https://localhost:8080/",
          "height": 541
        },
        "id": "QjfBB9gx18nO",
        "outputId": "541bb38b-1915-4b9c-b3e8-771e6c70ca8b"
      },
      "execution_count": null,
      "outputs": [
        {
          "output_type": "display_data",
          "data": {
            "text/plain": [
              "<Figure size 432x288 with 2 Axes>"
            ],
            "image/png": "[encoded data removed]"
          },
          "metadata": {
            "needs_background": "light"
          }
        },
        {
          "output_type": "display_data",
          "data": {
            "text/plain": [
              "<Figure size 432x288 with 2 Axes>"
            ],
            "image/png": "[encoded data removed]"
          },
          "metadata": {
            "needs_background": "light"
          }
        }
      ]
    },
    {
      "cell_type": "markdown",
      "source": [
        "### Neuronal Networks"
      ],
      "metadata": {
        "id": "-ees-oE-3GFa"
      }
    },
    {
      "cell_type": "code",
      "source": [
        "from tensorflow.keras.models import Sequential\n",
        "from tensorflow.keras.layers import Dense"
      ],
      "metadata": {
        "id": "SYYNlsE53J3I"
      },
      "execution_count": null,
      "outputs": []
    },
    {
      "cell_type": "code",
      "source": [
        "input_shape = X_train_df.shape[1]\n",
        "input_shape"
      ],
      "metadata": {
        "colab": {
          "base_uri": "https://localhost:8080/"
        },
        "id": "q4hV61uU34L8",
        "outputId": "3765bcaa-f5f4-40cf-90a9-197ab46e5da7"
      },
      "execution_count": null,
      "outputs": [
        {
          "output_type": "execute_result",
          "data": {
            "text/plain": [
              "22"
            ]
          },
          "metadata": {},
          "execution_count": 82
        }
      ]
    },
    {
      "cell_type": "code",
      "source": [
        "model = Sequential()"
      ],
      "metadata": {
        "id": "jI0Qle8k4Bv8"
      },
      "execution_count": null,
      "outputs": []
    },
    {
      "cell_type": "code",
      "source": [
        "model.add(Dense(22, input_dim = input_shape, activation = 'relu'))\n",
        "model.add(Dense(10, activation = 'relu'))\n",
        "model.add(Dense(1, activation = 'sigmoid'))"
      ],
      "metadata": {
        "id": "JRGMNl0T4G6G"
      },
      "execution_count": null,
      "outputs": []
    },
    {
      "cell_type": "code",
      "source": [
        "model.compile(loss = 'bce', optimizer = 'adam', metrics=[\"accuracy\"])"
      ],
      "metadata": {
        "id": "XrDB8o7n4Y67"
      },
      "execution_count": null,
      "outputs": []
    },
    {
      "cell_type": "code",
      "source": [
        "history = model.fit(X_train_df, y_train,\n",
        "                    validation_data = (X_test_df, y_test), \n",
        "                    epochs=10)"
      ],
      "metadata": {
        "colab": {
          "base_uri": "https://localhost:8080/"
        },
        "id": "Ptb2UTKN4cGo",
        "outputId": "3dd55394-eb3e-4489-c9bc-a7b475bd0afb"
      },
      "execution_count": null,
      "outputs": [
        {
          "output_type": "stream",
          "name": "stdout",
          "text": [
            "Epoch 1/10\n",
            "120/120 [==============================] - 1s 3ms/step - loss: 0.3347 - accuracy: 0.8891 - val_loss: 0.2198 - val_accuracy: 0.9374\n",
            "Epoch 2/10\n",
            "120/120 [==============================] - 0s 2ms/step - loss: 0.1559 - accuracy: 0.9559 - val_loss: 0.2035 - val_accuracy: 0.9374\n",
            "Epoch 3/10\n",
            "120/120 [==============================] - 0s 2ms/step - loss: 0.1494 - accuracy: 0.9559 - val_loss: 0.2009 - val_accuracy: 0.9374\n",
            "Epoch 4/10\n",
            "120/120 [==============================] - 0s 2ms/step - loss: 0.1466 - accuracy: 0.9559 - val_loss: 0.1960 - val_accuracy: 0.9374\n",
            "Epoch 5/10\n",
            "120/120 [==============================] - 0s 2ms/step - loss: 0.1449 - accuracy: 0.9559 - val_loss: 0.1933 - val_accuracy: 0.9374\n",
            "Epoch 6/10\n",
            "120/120 [==============================] - 0s 2ms/step - loss: 0.1442 - accuracy: 0.9559 - val_loss: 0.1946 - val_accuracy: 0.9374\n",
            "Epoch 7/10\n",
            "120/120 [==============================] - 0s 2ms/step - loss: 0.1426 - accuracy: 0.9559 - val_loss: 0.1917 - val_accuracy: 0.9374\n",
            "Epoch 8/10\n",
            "120/120 [==============================] - 0s 2ms/step - loss: 0.1422 - accuracy: 0.9559 - val_loss: 0.1979 - val_accuracy: 0.9374\n",
            "Epoch 9/10\n",
            "120/120 [==============================] - 0s 2ms/step - loss: 0.1418 - accuracy: 0.9559 - val_loss: 0.1923 - val_accuracy: 0.9374\n",
            "Epoch 10/10\n",
            "120/120 [==============================] - 0s 2ms/step - loss: 0.1407 - accuracy: 0.9559 - val_loss: 0.1992 - val_accuracy: 0.9374\n"
          ]
        }
      ]
    },
    {
      "cell_type": "code",
      "source": [
        "plt.plot(history.history['loss'], label='Train loss')\n",
        "plt.plot(history.history['val_loss'], label='Test Loss')\n",
        "plt.legend();"
      ],
      "metadata": {
        "colab": {
          "base_uri": "https://localhost:8080/",
          "height": 265
        },
        "id": "G4rG9uOq4kiA",
        "outputId": "343c9b4f-f5a5-4fbb-8afd-087101e9c819"
      },
      "execution_count": null,
      "outputs": [
        {
          "output_type": "display_data",
          "data": {
            "text/plain": [
              "<Figure size 432x288 with 1 Axes>"
            ],
            "image/png": "[encoded data removed]"
          },
          "metadata": {
            "needs_background": "light"
          }
        }
      ]
    },
    {
      "cell_type": "code",
      "source": [
        "plt.plot(history.history['accuracy'], label='Train Accuracy')\n",
        "plt.plot(history.history['val_accuracy'], label='Validation Accuracy')\n",
        "plt.legend();"
      ],
      "metadata": {
        "colab": {
          "base_uri": "https://localhost:8080/",
          "height": 265
        },
        "id": "tCad0AW07NP0",
        "outputId": "57c44a90-3626-4a76-8c70-7eb15ba01771"
      },
      "execution_count": null,
      "outputs": [
        {
          "output_type": "display_data",
          "data": {
            "text/plain": [
              "<Figure size 432x288 with 1 Axes>"
            ],
            "image/png": "[encoded data removed]"
          },
          "metadata": {
            "needs_background": "light"
          }
        }
      ]
    },
    {
      "cell_type": "markdown",
      "source": [
        "### Resumen de métricas y conclusión"
      ],
      "metadata": {
        "id": "MEnZfOSJK0Vv"
      }
    },
    {
      "cell_type": "code",
      "source": [
        "model_df = pd.DataFrame()\n",
        "model_df['Models'] = ['Decision tree', 'KNN', 'Logistic regression', 'Bagged trees', 'Random Forest']\n",
        "model_df['Accuracy'] = [accuracy_dt3, accuracy_knn, accuracy_lr, accuracy_bt50, accuracy_rf120]\n",
        "model_df['Recall'] = [recall_dt3, recall_knn, recall_lr, recall_bt50, recall_rf120]\n",
        "model_df['Precision'] = [precision_dt3, precision_knn, precision_lr, precision_bt50, precision_rf120]\n",
        "model_df['f1'] = [f1_dt3, f1_knn, f1_lr, f1_bt50, f1_rf120]\n",
        "model_df"
      ],
      "metadata": {
        "colab": {
          "base_uri": "https://localhost:8080/",
          "height": 206
        },
        "id": "rLyqXyT62wKo",
        "outputId": "639fd791-ccea-4d6b-c5d6-07a6d0dcacb6"
      },
      "execution_count": null,
      "outputs": [
        {
          "output_type": "execute_result",
          "data": {
            "text/plain": [
              "                Models  Accuracy  Recall  Precision        f1\n",
              "0        Decision tree  0.938185  0.0375   0.600000  0.070588\n",
              "1                  KNN  0.937402  0.0000   0.000000  0.000000\n",
              "2  Logistic regression  0.938185  0.0125   1.000000  0.024691\n",
              "3         Bagged trees  0.938185  0.0250   0.666667  0.048193\n",
              "4        Random Forest  0.938185  0.0250   0.666667  0.048193"
            ],
            "text/html": [
              "\n",
              "  <div id=\"df-b4cd5f92-1ede-47a8-bb1d-47c4f8da184f\">\n",
              "    <div class=\"colab-df-container\">\n",
              "      <div>\n",
              "<style scoped>\n",
              "    .dataframe tbody tr th:only-of-type {\n",
              "        vertical-align: middle;\n",
              "    }\n",
              "\n",
              "    .dataframe tbody tr th {\n",
              "        vertical-align: top;\n",
              "    }\n",
              "\n",
              "    .dataframe thead th {\n",
              "        text-align: right;\n",
              "    }\n",
              "</style>\n",
              "<table border=\"1\" class=\"dataframe\">\n",
              "  <thead>\n",
              "    <tr style=\"text-align: right;\">\n",
              "      <th></th>\n",
              "      <th>Models</th>\n",
              "      <th>Accuracy</th>\n",
              "      <th>Recall</th>\n",
              "      <th>Precision</th>\n",
              "      <th>f1</th>\n",
              "    </tr>\n",
              "  </thead>\n",
              "  <tbody>\n",
              "    <tr>\n",
              "      <th>0</th>\n",
              "      <td>Decision tree</td>\n",
              "      <td>0.938185</td>\n",
              "      <td>0.0375</td>\n",
              "      <td>0.600000</td>\n",
              "      <td>0.070588</td>\n",
              "    </tr>\n",
              "    <tr>\n",
              "      <th>1</th>\n",
              "      <td>KNN</td>\n",
              "      <td>0.937402</td>\n",
              "      <td>0.0000</td>\n",
              "      <td>0.000000</td>\n",
              "      <td>0.000000</td>\n",
              "    </tr>\n",
              "    <tr>\n",
              "      <th>2</th>\n",
              "      <td>Logistic regression</td>\n",
              "      <td>0.938185</td>\n",
              "      <td>0.0125</td>\n",
              "      <td>1.000000</td>\n",
              "      <td>0.024691</td>\n",
              "    </tr>\n",
              "    <tr>\n",
              "      <th>3</th>\n",
              "      <td>Bagged trees</td>\n",
              "      <td>0.938185</td>\n",
              "      <td>0.0250</td>\n",
              "      <td>0.666667</td>\n",
              "      <td>0.048193</td>\n",
              "    </tr>\n",
              "    <tr>\n",
              "      <th>4</th>\n",
              "      <td>Random Forest</td>\n",
              "      <td>0.938185</td>\n",
              "      <td>0.0250</td>\n",
              "      <td>0.666667</td>\n",
              "      <td>0.048193</td>\n",
              "    </tr>\n",
              "  </tbody>\n",
              "</table>\n",
              "</div>\n",
              "      <button class=\"colab-df-convert\" onclick=\"convertToInteractive('df-b4cd5f92-1ede-47a8-bb1d-47c4f8da184f')\"\n",
              "              title=\"Convert this dataframe to an interactive table.\"\n",
              "              style=\"display:none;\">\n",
              "        \n",
              "  <svg xmlns=\"http://www.w3.org/2000/svg\" height=\"24px\"viewBox=\"0 0 24 24\"\n",
              "       width=\"24px\">\n",
              "    <path d=\"M0 0h24v24H0V0z\" fill=\"none\"/>\n",
              "    <path d=\"M18.56 5.44l.94 2.06.94-2.06 2.06-.94-2.06-.94-.94-2.06-.94 2.06-2.06.94zm-11 1L8.5 8.5l.94-2.06 2.06-.94-2.06-.94L8.5 2.5l-.94 2.06-2.06.94zm10 10l.94 2.06.94-2.06 2.06-.94-2.06-.94-.94-2.06-.94 2.06-2.06.94z\"/><path d=\"M17.41 7.96l-1.37-1.37c-.4-.4-.92-.59-1.43-.59-.52 0-1.04.2-1.43.59L10.3 9.45l-7.72 7.72c-.78.78-.78 2.05 0 2.83L4 21.41c.39.39.9.59 1.41.59.51 0 1.02-.2 1.41-.59l7.78-7.78 2.81-2.81c.8-.78.8-2.07 0-2.86zM5.41 20L4 18.59l7.72-7.72 1.47 1.35L5.41 20z\"/>\n",
              "  </svg>\n",
              "      </button>\n",
              "      \n",
              "  <style>\n",
              "    .colab-df-container {\n",
              "      display:flex;\n",
              "      flex-wrap:wrap;\n",
              "      gap: 12px;\n",
              "    }\n",
              "\n",
              "    .colab-df-convert {\n",
              "      background-color: #E8F0FE;\n",
              "      border: none;\n",
              "      border-radius: 50%;\n",
              "      cursor: pointer;\n",
              "      display: none;\n",
              "      fill: #1967D2;\n",
              "      height: 32px;\n",
              "      padding: 0 0 0 0;\n",
              "      width: 32px;\n",
              "    }\n",
              "\n",
              "    .colab-df-convert:hover {\n",
              "      background-color: #E2EBFA;\n",
              "      box-shadow: 0px 1px 2px rgba(60, 64, 67, 0.3), 0px 1px 3px 1px rgba(60, 64, 67, 0.15);\n",
              "      fill: #174EA6;\n",
              "    }\n",
              "\n",
              "    [theme=dark] .colab-df-convert {\n",
              "      background-color: #3B4455;\n",
              "      fill: #D2E3FC;\n",
              "    }\n",
              "\n",
              "    [theme=dark] .colab-df-convert:hover {\n",
              "      background-color: #434B5C;\n",
              "      box-shadow: 0px 1px 3px 1px rgba(0, 0, 0, 0.15);\n",
              "      filter: drop-shadow(0px 1px 2px rgba(0, 0, 0, 0.3));\n",
              "      fill: #FFFFFF;\n",
              "    }\n",
              "  </style>\n",
              "\n",
              "      <script>\n",
              "        const buttonEl =\n",
              "          document.querySelector('#df-b4cd5f92-1ede-47a8-bb1d-47c4f8da184f button.colab-df-convert');\n",
              "        buttonEl.style.display =\n",
              "          google.colab.kernel.accessAllowed ? 'block' : 'none';\n",
              "\n",
              "        async function convertToInteractive(key) {\n",
              "          const element = document.querySelector('#df-b4cd5f92-1ede-47a8-bb1d-47c4f8da184f');\n",
              "          const dataTable =\n",
              "            await google.colab.kernel.invokeFunction('convertToInteractive',\n",
              "                                                     [key], {});\n",
              "          if (!dataTable) return;\n",
              "\n",
              "          const docLinkHtml = 'Like what you see? Visit the ' +\n",
              "            '<a target=\"_blank\" href=https://colab.research.google.com/notebooks/data_table.ipynb>data table notebook</a>'\n",
              "            + ' to learn more about interactive tables.';\n",
              "          element.innerHTML = '';\n",
              "          dataTable['output_type'] = 'display_data';\n",
              "          await google.colab.output.renderOutput(dataTable, element);\n",
              "          const docLink = document.createElement('div');\n",
              "          docLink.innerHTML = docLinkHtml;\n",
              "          element.appendChild(docLink);\n",
              "        }\n",
              "      </script>\n",
              "    </div>\n",
              "  </div>\n",
              "  "
            ]
          },
          "metadata": {},
          "execution_count": 95
        }
      ]
    },
    {
      "cell_type": "markdown",
      "source": [
        "En todos los modelos la métrica 'recall' es bastante ineficiente, lo que\n",
        "quiere decir que todos los modelos tienen problemas para predecir los\n",
        "verdaderos positivos (pacientes que efectivamente tuvieron un\n",
        "derrame), esto debido a que el dataset está bastante desbalanceado,\n",
        "lo que hace que la métrica 'accuracy' sea engañosa.\n",
        "\n",
        "'Mejor' modelo considerando lo anterior: árbol de decisión de clasificación."
      ],
      "metadata": {
        "id": "4mvepJ5lKsL7"
      }
    }
  ]
}
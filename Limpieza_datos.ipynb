{
  "nbformat": 4,
  "nbformat_minor": 0,
  "metadata": {
    "colab": {
      "provenance": [],
      "collapsed_sections": [],
      "authorship_tag": "ABX9TyO5a0LvWGJp0x7gAAXWITPV",
      "include_colab_link": true
    },
    "kernelspec": {
      "name": "python3",
      "display_name": "Python 3"
    },
    "language_info": {
      "name": "python"
    }
  },
  "cells": [
    {
      "cell_type": "markdown",
      "metadata": {
        "id": "view-in-github",
        "colab_type": "text"
      },
      "source": [
        "<a href=\"https://colab.research.google.com/github/mariana-0/Proyecto_2/blob/master/Limpieza_datos.ipynb\" target=\"_parent\"><img src=\"https://colab.research.google.com/assets/colab-badge.svg\" alt=\"Open In Colab\"/></a>"
      ]
    },
    {
      "cell_type": "markdown",
      "source": [
        "# Stroke Prediction"
      ],
      "metadata": {
        "id": "PXob2wtcXV6h"
      }
    },
    {
      "cell_type": "markdown",
      "source": [
        "## Limpieza y exploración de datos"
      ],
      "metadata": {
        "id": "csSTQ9lAXZpb"
      }
    },
    {
      "cell_type": "code",
      "execution_count": 162,
      "metadata": {
        "colab": {
          "base_uri": "https://localhost:8080/"
        },
        "id": "HcwkAzK1XEuO",
        "outputId": "c0039d61-f305-4090-c60f-981e8bb76a4a"
      },
      "outputs": [
        {
          "output_type": "stream",
          "name": "stdout",
          "text": [
            "Drive already mounted at /content/drive; to attempt to forcibly remount, call drive.mount(\"/content/drive\", force_remount=True).\n"
          ]
        }
      ],
      "source": [
        "from google.colab import drive\n",
        "drive.mount('/content/drive')"
      ]
    },
    {
      "cell_type": "code",
      "source": [
        "import numpy as np\n",
        "import matplotlib.pyplot as plt\n",
        "import pandas as pd"
      ],
      "metadata": {
        "id": "CMKD0mtTYA6Q"
      },
      "execution_count": 163,
      "outputs": []
    },
    {
      "cell_type": "markdown",
      "source": [
        "### Información dataset"
      ],
      "metadata": {
        "id": "kHbfX7z3wOc-"
      }
    },
    {
      "cell_type": "markdown",
      "source": [
        "![image.png](data:image/png;base64,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)"
      ],
      "metadata": {
        "id": "YqXJiKyqwSI8"
      }
    },
    {
      "cell_type": "markdown",
      "source": [
        "Desconocido en smoking status significa que no había información disponible."
      ],
      "metadata": {
        "id": "q_c38KlIzgs2"
      }
    },
    {
      "cell_type": "code",
      "source": [
        "df = pd.read_excel('/content/drive/MyDrive/CodingDojo_DataScience/P2/opcion healthcare-dataset-stroke-data.xlsx')\n",
        "df.head()"
      ],
      "metadata": {
        "colab": {
          "base_uri": "https://localhost:8080/",
          "height": 206
        },
        "id": "n1NOwra0rH59",
        "outputId": "28739112-bc03-4e3c-e1fb-7a18c465453b"
      },
      "execution_count": 164,
      "outputs": [
        {
          "output_type": "execute_result",
          "data": {
            "text/plain": [
              "      id  gender   age  hypertension  heart_disease ever_married  \\\n",
              "0   9046    Male  67.0             0              1          Yes   \n",
              "1  51676  Female  61.0             0              0          Yes   \n",
              "2  31112    Male  80.0             0              1          Yes   \n",
              "3  60182  Female  49.0             0              0          Yes   \n",
              "4   1665  Female  79.0             1              0          Yes   \n",
              "\n",
              "       work_type Residence_type  avg_glucose_level   bmi   smoking_status  \\\n",
              "0        Private          Urban             228.69  36.6  formerly smoked   \n",
              "1  Self-employed          Rural             202.21   NaN     never smoked   \n",
              "2        Private          Rural             105.92  32.5     never smoked   \n",
              "3        Private          Urban             171.23  34.4           smokes   \n",
              "4  Self-employed          Rural             174.12  24.0     never smoked   \n",
              "\n",
              "   stroke  \n",
              "0       1  \n",
              "1       1  \n",
              "2       1  \n",
              "3       1  \n",
              "4       1  "
            ],
            "text/html": [
              "\n",
              "  <div id=\"df-5f6adeca-efb8-43e8-bb2b-f827b76da163\">\n",
              "    <div class=\"colab-df-container\">\n",
              "      <div>\n",
              "<style scoped>\n",
              "    .dataframe tbody tr th:only-of-type {\n",
              "        vertical-align: middle;\n",
              "    }\n",
              "\n",
              "    .dataframe tbody tr th {\n",
              "        vertical-align: top;\n",
              "    }\n",
              "\n",
              "    .dataframe thead th {\n",
              "        text-align: right;\n",
              "    }\n",
              "</style>\n",
              "<table border=\"1\" class=\"dataframe\">\n",
              "  <thead>\n",
              "    <tr style=\"text-align: right;\">\n",
              "      <th></th>\n",
              "      <th>id</th>\n",
              "      <th>gender</th>\n",
              "      <th>age</th>\n",
              "      <th>hypertension</th>\n",
              "      <th>heart_disease</th>\n",
              "      <th>ever_married</th>\n",
              "      <th>work_type</th>\n",
              "      <th>Residence_type</th>\n",
              "      <th>avg_glucose_level</th>\n",
              "      <th>bmi</th>\n",
              "      <th>smoking_status</th>\n",
              "      <th>stroke</th>\n",
              "    </tr>\n",
              "  </thead>\n",
              "  <tbody>\n",
              "    <tr>\n",
              "      <th>0</th>\n",
              "      <td>9046</td>\n",
              "      <td>Male</td>\n",
              "      <td>67.0</td>\n",
              "      <td>0</td>\n",
              "      <td>1</td>\n",
              "      <td>Yes</td>\n",
              "      <td>Private</td>\n",
              "      <td>Urban</td>\n",
              "      <td>228.69</td>\n",
              "      <td>36.6</td>\n",
              "      <td>formerly smoked</td>\n",
              "      <td>1</td>\n",
              "    </tr>\n",
              "    <tr>\n",
              "      <th>1</th>\n",
              "      <td>51676</td>\n",
              "      <td>Female</td>\n",
              "      <td>61.0</td>\n",
              "      <td>0</td>\n",
              "      <td>0</td>\n",
              "      <td>Yes</td>\n",
              "      <td>Self-employed</td>\n",
              "      <td>Rural</td>\n",
              "      <td>202.21</td>\n",
              "      <td>NaN</td>\n",
              "      <td>never smoked</td>\n",
              "      <td>1</td>\n",
              "    </tr>\n",
              "    <tr>\n",
              "      <th>2</th>\n",
              "      <td>31112</td>\n",
              "      <td>Male</td>\n",
              "      <td>80.0</td>\n",
              "      <td>0</td>\n",
              "      <td>1</td>\n",
              "      <td>Yes</td>\n",
              "      <td>Private</td>\n",
              "      <td>Rural</td>\n",
              "      <td>105.92</td>\n",
              "      <td>32.5</td>\n",
              "      <td>never smoked</td>\n",
              "      <td>1</td>\n",
              "    </tr>\n",
              "    <tr>\n",
              "      <th>3</th>\n",
              "      <td>60182</td>\n",
              "      <td>Female</td>\n",
              "      <td>49.0</td>\n",
              "      <td>0</td>\n",
              "      <td>0</td>\n",
              "      <td>Yes</td>\n",
              "      <td>Private</td>\n",
              "      <td>Urban</td>\n",
              "      <td>171.23</td>\n",
              "      <td>34.4</td>\n",
              "      <td>smokes</td>\n",
              "      <td>1</td>\n",
              "    </tr>\n",
              "    <tr>\n",
              "      <th>4</th>\n",
              "      <td>1665</td>\n",
              "      <td>Female</td>\n",
              "      <td>79.0</td>\n",
              "      <td>1</td>\n",
              "      <td>0</td>\n",
              "      <td>Yes</td>\n",
              "      <td>Self-employed</td>\n",
              "      <td>Rural</td>\n",
              "      <td>174.12</td>\n",
              "      <td>24.0</td>\n",
              "      <td>never smoked</td>\n",
              "      <td>1</td>\n",
              "    </tr>\n",
              "  </tbody>\n",
              "</table>\n",
              "</div>\n",
              "      <button class=\"colab-df-convert\" onclick=\"convertToInteractive('df-5f6adeca-efb8-43e8-bb2b-f827b76da163')\"\n",
              "              title=\"Convert this dataframe to an interactive table.\"\n",
              "              style=\"display:none;\">\n",
              "        \n",
              "  <svg xmlns=\"http://www.w3.org/2000/svg\" height=\"24px\"viewBox=\"0 0 24 24\"\n",
              "       width=\"24px\">\n",
              "    <path d=\"M0 0h24v24H0V0z\" fill=\"none\"/>\n",
              "    <path d=\"M18.56 5.44l.94 2.06.94-2.06 2.06-.94-2.06-.94-.94-2.06-.94 2.06-2.06.94zm-11 1L8.5 8.5l.94-2.06 2.06-.94-2.06-.94L8.5 2.5l-.94 2.06-2.06.94zm10 10l.94 2.06.94-2.06 2.06-.94-2.06-.94-.94-2.06-.94 2.06-2.06.94z\"/><path d=\"M17.41 7.96l-1.37-1.37c-.4-.4-.92-.59-1.43-.59-.52 0-1.04.2-1.43.59L10.3 9.45l-7.72 7.72c-.78.78-.78 2.05 0 2.83L4 21.41c.39.39.9.59 1.41.59.51 0 1.02-.2 1.41-.59l7.78-7.78 2.81-2.81c.8-.78.8-2.07 0-2.86zM5.41 20L4 18.59l7.72-7.72 1.47 1.35L5.41 20z\"/>\n",
              "  </svg>\n",
              "      </button>\n",
              "      \n",
              "  <style>\n",
              "    .colab-df-container {\n",
              "      display:flex;\n",
              "      flex-wrap:wrap;\n",
              "      gap: 12px;\n",
              "    }\n",
              "\n",
              "    .colab-df-convert {\n",
              "      background-color: #E8F0FE;\n",
              "      border: none;\n",
              "      border-radius: 50%;\n",
              "      cursor: pointer;\n",
              "      display: none;\n",
              "      fill: #1967D2;\n",
              "      height: 32px;\n",
              "      padding: 0 0 0 0;\n",
              "      width: 32px;\n",
              "    }\n",
              "\n",
              "    .colab-df-convert:hover {\n",
              "      background-color: #E2EBFA;\n",
              "      box-shadow: 0px 1px 2px rgba(60, 64, 67, 0.3), 0px 1px 3px 1px rgba(60, 64, 67, 0.15);\n",
              "      fill: #174EA6;\n",
              "    }\n",
              "\n",
              "    [theme=dark] .colab-df-convert {\n",
              "      background-color: #3B4455;\n",
              "      fill: #D2E3FC;\n",
              "    }\n",
              "\n",
              "    [theme=dark] .colab-df-convert:hover {\n",
              "      background-color: #434B5C;\n",
              "      box-shadow: 0px 1px 3px 1px rgba(0, 0, 0, 0.15);\n",
              "      filter: drop-shadow(0px 1px 2px rgba(0, 0, 0, 0.3));\n",
              "      fill: #FFFFFF;\n",
              "    }\n",
              "  </style>\n",
              "\n",
              "      <script>\n",
              "        const buttonEl =\n",
              "          document.querySelector('#df-5f6adeca-efb8-43e8-bb2b-f827b76da163 button.colab-df-convert');\n",
              "        buttonEl.style.display =\n",
              "          google.colab.kernel.accessAllowed ? 'block' : 'none';\n",
              "\n",
              "        async function convertToInteractive(key) {\n",
              "          const element = document.querySelector('#df-5f6adeca-efb8-43e8-bb2b-f827b76da163');\n",
              "          const dataTable =\n",
              "            await google.colab.kernel.invokeFunction('convertToInteractive',\n",
              "                                                     [key], {});\n",
              "          if (!dataTable) return;\n",
              "\n",
              "          const docLinkHtml = 'Like what you see? Visit the ' +\n",
              "            '<a target=\"_blank\" href=https://colab.research.google.com/notebooks/data_table.ipynb>data table notebook</a>'\n",
              "            + ' to learn more about interactive tables.';\n",
              "          element.innerHTML = '';\n",
              "          dataTable['output_type'] = 'display_data';\n",
              "          await google.colab.output.renderOutput(dataTable, element);\n",
              "          const docLink = document.createElement('div');\n",
              "          docLink.innerHTML = docLinkHtml;\n",
              "          element.appendChild(docLink);\n",
              "        }\n",
              "      </script>\n",
              "    </div>\n",
              "  </div>\n",
              "  "
            ]
          },
          "metadata": {},
          "execution_count": 164
        }
      ]
    },
    {
      "cell_type": "code",
      "source": [
        "df.info()"
      ],
      "metadata": {
        "colab": {
          "base_uri": "https://localhost:8080/"
        },
        "id": "ZMgCJkySr58N",
        "outputId": "a8b4941c-34b8-4969-9c3e-5a3126fc1580"
      },
      "execution_count": 165,
      "outputs": [
        {
          "output_type": "stream",
          "name": "stdout",
          "text": [
            "<class 'pandas.core.frame.DataFrame'>\n",
            "RangeIndex: 5110 entries, 0 to 5109\n",
            "Data columns (total 12 columns):\n",
            " #   Column             Non-Null Count  Dtype  \n",
            "---  ------             --------------  -----  \n",
            " 0   id                 5110 non-null   int64  \n",
            " 1   gender             5110 non-null   object \n",
            " 2   age                5110 non-null   float64\n",
            " 3   hypertension       5110 non-null   int64  \n",
            " 4   heart_disease      5110 non-null   int64  \n",
            " 5   ever_married       5110 non-null   object \n",
            " 6   work_type          5110 non-null   object \n",
            " 7   Residence_type     5110 non-null   object \n",
            " 8   avg_glucose_level  5110 non-null   float64\n",
            " 9   bmi                4909 non-null   float64\n",
            " 10  smoking_status     5110 non-null   object \n",
            " 11  stroke             5110 non-null   int64  \n",
            "dtypes: float64(3), int64(4), object(5)\n",
            "memory usage: 479.2+ KB\n"
          ]
        }
      ]
    },
    {
      "cell_type": "markdown",
      "source": [
        "### Identifación valores faltantes."
      ],
      "metadata": {
        "id": "uPton7IB3xIl"
      }
    },
    {
      "cell_type": "code",
      "source": [
        "df.isna().sum().sum()"
      ],
      "metadata": {
        "colab": {
          "base_uri": "https://localhost:8080/"
        },
        "id": "2XVZ6TrosFjh",
        "outputId": "485d8f92-50b3-4c56-d5ea-f4be0298565b"
      },
      "execution_count": 166,
      "outputs": [
        {
          "output_type": "execute_result",
          "data": {
            "text/plain": [
              "201"
            ]
          },
          "metadata": {},
          "execution_count": 166
        }
      ]
    },
    {
      "cell_type": "markdown",
      "source": [
        "201 datos faltantes en columna bmi."
      ],
      "metadata": {
        "id": "hjSeRgDIr9F2"
      }
    },
    {
      "cell_type": "markdown",
      "source": [
        "### Identificación filas duplicadas."
      ],
      "metadata": {
        "id": "quGkPJTw34sG"
      }
    },
    {
      "cell_type": "code",
      "source": [
        "df.duplicated().sum()"
      ],
      "metadata": {
        "colab": {
          "base_uri": "https://localhost:8080/"
        },
        "id": "cgGF2MEyscvY",
        "outputId": "2efe4f62-d33c-43d4-f6a3-6dc616ebf769"
      },
      "execution_count": 167,
      "outputs": [
        {
          "output_type": "execute_result",
          "data": {
            "text/plain": [
              "0"
            ]
          },
          "metadata": {},
          "execution_count": 167
        }
      ]
    },
    {
      "cell_type": "markdown",
      "source": [
        "No hay filas duplicadas"
      ],
      "metadata": {
        "id": "TqDGkE_Xxsst"
      }
    },
    {
      "cell_type": "markdown",
      "source": [
        "### Columnas innecesarias:\n",
        "\n",
        "Las columnas que no son útiles la realización de modelos son:\n",
        "\n",
        "*   Id\n"
      ],
      "metadata": {
        "id": "tSBiUtGBw1lA"
      }
    },
    {
      "cell_type": "code",
      "source": [
        "df = df.drop(columns=['id'])"
      ],
      "metadata": {
        "id": "QOJTGPoqxkYk"
      },
      "execution_count": 168,
      "outputs": []
    },
    {
      "cell_type": "code",
      "source": [
        "df.head()"
      ],
      "metadata": {
        "colab": {
          "base_uri": "https://localhost:8080/",
          "height": 206
        },
        "id": "5MKvGyaxx805",
        "outputId": "4685f494-ca2b-4e76-b579-c7a73cdadd5c"
      },
      "execution_count": 169,
      "outputs": [
        {
          "output_type": "execute_result",
          "data": {
            "text/plain": [
              "   gender   age  hypertension  heart_disease ever_married      work_type  \\\n",
              "0    Male  67.0             0              1          Yes        Private   \n",
              "1  Female  61.0             0              0          Yes  Self-employed   \n",
              "2    Male  80.0             0              1          Yes        Private   \n",
              "3  Female  49.0             0              0          Yes        Private   \n",
              "4  Female  79.0             1              0          Yes  Self-employed   \n",
              "\n",
              "  Residence_type  avg_glucose_level   bmi   smoking_status  stroke  \n",
              "0          Urban             228.69  36.6  formerly smoked       1  \n",
              "1          Rural             202.21   NaN     never smoked       1  \n",
              "2          Rural             105.92  32.5     never smoked       1  \n",
              "3          Urban             171.23  34.4           smokes       1  \n",
              "4          Rural             174.12  24.0     never smoked       1  "
            ],
            "text/html": [
              "\n",
              "  <div id=\"df-9c25ad39-a6e4-43f9-bd8c-164d6e4ef620\">\n",
              "    <div class=\"colab-df-container\">\n",
              "      <div>\n",
              "<style scoped>\n",
              "    .dataframe tbody tr th:only-of-type {\n",
              "        vertical-align: middle;\n",
              "    }\n",
              "\n",
              "    .dataframe tbody tr th {\n",
              "        vertical-align: top;\n",
              "    }\n",
              "\n",
              "    .dataframe thead th {\n",
              "        text-align: right;\n",
              "    }\n",
              "</style>\n",
              "<table border=\"1\" class=\"dataframe\">\n",
              "  <thead>\n",
              "    <tr style=\"text-align: right;\">\n",
              "      <th></th>\n",
              "      <th>gender</th>\n",
              "      <th>age</th>\n",
              "      <th>hypertension</th>\n",
              "      <th>heart_disease</th>\n",
              "      <th>ever_married</th>\n",
              "      <th>work_type</th>\n",
              "      <th>Residence_type</th>\n",
              "      <th>avg_glucose_level</th>\n",
              "      <th>bmi</th>\n",
              "      <th>smoking_status</th>\n",
              "      <th>stroke</th>\n",
              "    </tr>\n",
              "  </thead>\n",
              "  <tbody>\n",
              "    <tr>\n",
              "      <th>0</th>\n",
              "      <td>Male</td>\n",
              "      <td>67.0</td>\n",
              "      <td>0</td>\n",
              "      <td>1</td>\n",
              "      <td>Yes</td>\n",
              "      <td>Private</td>\n",
              "      <td>Urban</td>\n",
              "      <td>228.69</td>\n",
              "      <td>36.6</td>\n",
              "      <td>formerly smoked</td>\n",
              "      <td>1</td>\n",
              "    </tr>\n",
              "    <tr>\n",
              "      <th>1</th>\n",
              "      <td>Female</td>\n",
              "      <td>61.0</td>\n",
              "      <td>0</td>\n",
              "      <td>0</td>\n",
              "      <td>Yes</td>\n",
              "      <td>Self-employed</td>\n",
              "      <td>Rural</td>\n",
              "      <td>202.21</td>\n",
              "      <td>NaN</td>\n",
              "      <td>never smoked</td>\n",
              "      <td>1</td>\n",
              "    </tr>\n",
              "    <tr>\n",
              "      <th>2</th>\n",
              "      <td>Male</td>\n",
              "      <td>80.0</td>\n",
              "      <td>0</td>\n",
              "      <td>1</td>\n",
              "      <td>Yes</td>\n",
              "      <td>Private</td>\n",
              "      <td>Rural</td>\n",
              "      <td>105.92</td>\n",
              "      <td>32.5</td>\n",
              "      <td>never smoked</td>\n",
              "      <td>1</td>\n",
              "    </tr>\n",
              "    <tr>\n",
              "      <th>3</th>\n",
              "      <td>Female</td>\n",
              "      <td>49.0</td>\n",
              "      <td>0</td>\n",
              "      <td>0</td>\n",
              "      <td>Yes</td>\n",
              "      <td>Private</td>\n",
              "      <td>Urban</td>\n",
              "      <td>171.23</td>\n",
              "      <td>34.4</td>\n",
              "      <td>smokes</td>\n",
              "      <td>1</td>\n",
              "    </tr>\n",
              "    <tr>\n",
              "      <th>4</th>\n",
              "      <td>Female</td>\n",
              "      <td>79.0</td>\n",
              "      <td>1</td>\n",
              "      <td>0</td>\n",
              "      <td>Yes</td>\n",
              "      <td>Self-employed</td>\n",
              "      <td>Rural</td>\n",
              "      <td>174.12</td>\n",
              "      <td>24.0</td>\n",
              "      <td>never smoked</td>\n",
              "      <td>1</td>\n",
              "    </tr>\n",
              "  </tbody>\n",
              "</table>\n",
              "</div>\n",
              "      <button class=\"colab-df-convert\" onclick=\"convertToInteractive('df-9c25ad39-a6e4-43f9-bd8c-164d6e4ef620')\"\n",
              "              title=\"Convert this dataframe to an interactive table.\"\n",
              "              style=\"display:none;\">\n",
              "        \n",
              "  <svg xmlns=\"http://www.w3.org/2000/svg\" height=\"24px\"viewBox=\"0 0 24 24\"\n",
              "       width=\"24px\">\n",
              "    <path d=\"M0 0h24v24H0V0z\" fill=\"none\"/>\n",
              "    <path d=\"M18.56 5.44l.94 2.06.94-2.06 2.06-.94-2.06-.94-.94-2.06-.94 2.06-2.06.94zm-11 1L8.5 8.5l.94-2.06 2.06-.94-2.06-.94L8.5 2.5l-.94 2.06-2.06.94zm10 10l.94 2.06.94-2.06 2.06-.94-2.06-.94-.94-2.06-.94 2.06-2.06.94z\"/><path d=\"M17.41 7.96l-1.37-1.37c-.4-.4-.92-.59-1.43-.59-.52 0-1.04.2-1.43.59L10.3 9.45l-7.72 7.72c-.78.78-.78 2.05 0 2.83L4 21.41c.39.39.9.59 1.41.59.51 0 1.02-.2 1.41-.59l7.78-7.78 2.81-2.81c.8-.78.8-2.07 0-2.86zM5.41 20L4 18.59l7.72-7.72 1.47 1.35L5.41 20z\"/>\n",
              "  </svg>\n",
              "      </button>\n",
              "      \n",
              "  <style>\n",
              "    .colab-df-container {\n",
              "      display:flex;\n",
              "      flex-wrap:wrap;\n",
              "      gap: 12px;\n",
              "    }\n",
              "\n",
              "    .colab-df-convert {\n",
              "      background-color: #E8F0FE;\n",
              "      border: none;\n",
              "      border-radius: 50%;\n",
              "      cursor: pointer;\n",
              "      display: none;\n",
              "      fill: #1967D2;\n",
              "      height: 32px;\n",
              "      padding: 0 0 0 0;\n",
              "      width: 32px;\n",
              "    }\n",
              "\n",
              "    .colab-df-convert:hover {\n",
              "      background-color: #E2EBFA;\n",
              "      box-shadow: 0px 1px 2px rgba(60, 64, 67, 0.3), 0px 1px 3px 1px rgba(60, 64, 67, 0.15);\n",
              "      fill: #174EA6;\n",
              "    }\n",
              "\n",
              "    [theme=dark] .colab-df-convert {\n",
              "      background-color: #3B4455;\n",
              "      fill: #D2E3FC;\n",
              "    }\n",
              "\n",
              "    [theme=dark] .colab-df-convert:hover {\n",
              "      background-color: #434B5C;\n",
              "      box-shadow: 0px 1px 3px 1px rgba(0, 0, 0, 0.15);\n",
              "      filter: drop-shadow(0px 1px 2px rgba(0, 0, 0, 0.3));\n",
              "      fill: #FFFFFF;\n",
              "    }\n",
              "  </style>\n",
              "\n",
              "      <script>\n",
              "        const buttonEl =\n",
              "          document.querySelector('#df-9c25ad39-a6e4-43f9-bd8c-164d6e4ef620 button.colab-df-convert');\n",
              "        buttonEl.style.display =\n",
              "          google.colab.kernel.accessAllowed ? 'block' : 'none';\n",
              "\n",
              "        async function convertToInteractive(key) {\n",
              "          const element = document.querySelector('#df-9c25ad39-a6e4-43f9-bd8c-164d6e4ef620');\n",
              "          const dataTable =\n",
              "            await google.colab.kernel.invokeFunction('convertToInteractive',\n",
              "                                                     [key], {});\n",
              "          if (!dataTable) return;\n",
              "\n",
              "          const docLinkHtml = 'Like what you see? Visit the ' +\n",
              "            '<a target=\"_blank\" href=https://colab.research.google.com/notebooks/data_table.ipynb>data table notebook</a>'\n",
              "            + ' to learn more about interactive tables.';\n",
              "          element.innerHTML = '';\n",
              "          dataTable['output_type'] = 'display_data';\n",
              "          await google.colab.output.renderOutput(dataTable, element);\n",
              "          const docLink = document.createElement('div');\n",
              "          docLink.innerHTML = docLinkHtml;\n",
              "          element.appendChild(docLink);\n",
              "        }\n",
              "      </script>\n",
              "    </div>\n",
              "  </div>\n",
              "  "
            ]
          },
          "metadata": {},
          "execution_count": 169
        }
      ]
    },
    {
      "cell_type": "markdown",
      "source": [
        "### Idenficicaión de incosistencias en los datos."
      ],
      "metadata": {
        "id": "tsS_KH5M4ENA"
      }
    },
    {
      "cell_type": "code",
      "source": [
        "df['work_type'].value_counts()"
      ],
      "metadata": {
        "colab": {
          "base_uri": "https://localhost:8080/"
        },
        "id": "bBsUTD0iyCJF",
        "outputId": "94dff33d-e135-4963-b4f6-3b9fe239901e"
      },
      "execution_count": 170,
      "outputs": [
        {
          "output_type": "execute_result",
          "data": {
            "text/plain": [
              "Private          2925\n",
              "Self-employed     819\n",
              "children          687\n",
              "Govt_job          657\n",
              "Never_worked       22\n",
              "Name: work_type, dtype: int64"
            ]
          },
          "metadata": {},
          "execution_count": 170
        }
      ]
    },
    {
      "cell_type": "code",
      "source": [
        "df['gender'].value_counts()"
      ],
      "metadata": {
        "colab": {
          "base_uri": "https://localhost:8080/"
        },
        "id": "uB88XCy4z0Ge",
        "outputId": "e8e02b30-f890-4635-a408-b4bcc4c26476"
      },
      "execution_count": 171,
      "outputs": [
        {
          "output_type": "execute_result",
          "data": {
            "text/plain": [
              "Female    2994\n",
              "Male      2115\n",
              "Other        1\n",
              "Name: gender, dtype: int64"
            ]
          },
          "metadata": {},
          "execution_count": 171
        }
      ]
    },
    {
      "cell_type": "code",
      "source": [
        "df['ever_married'].value_counts()"
      ],
      "metadata": {
        "colab": {
          "base_uri": "https://localhost:8080/"
        },
        "id": "EyCaa9e-z3lg",
        "outputId": "8963a3ca-bf53-4610-9663-b38a5ee65953"
      },
      "execution_count": 172,
      "outputs": [
        {
          "output_type": "execute_result",
          "data": {
            "text/plain": [
              "Yes    3353\n",
              "No     1757\n",
              "Name: ever_married, dtype: int64"
            ]
          },
          "metadata": {},
          "execution_count": 172
        }
      ]
    },
    {
      "cell_type": "code",
      "source": [
        "df['Residence_type'].value_counts()"
      ],
      "metadata": {
        "colab": {
          "base_uri": "https://localhost:8080/"
        },
        "id": "pU8wcQEdz8hG",
        "outputId": "ed0500d8-d315-4c22-adda-59cf75999313"
      },
      "execution_count": 173,
      "outputs": [
        {
          "output_type": "execute_result",
          "data": {
            "text/plain": [
              "Urban    2596\n",
              "Rural    2514\n",
              "Name: Residence_type, dtype: int64"
            ]
          },
          "metadata": {},
          "execution_count": 173
        }
      ]
    },
    {
      "cell_type": "code",
      "source": [
        "df['smoking_status'].value_counts()"
      ],
      "metadata": {
        "colab": {
          "base_uri": "https://localhost:8080/"
        },
        "id": "f-36i0lL0GqR",
        "outputId": "96b5d7f5-6d29-4b53-f3f3-ff550d03c95f"
      },
      "execution_count": 174,
      "outputs": [
        {
          "output_type": "execute_result",
          "data": {
            "text/plain": [
              "never smoked       1892\n",
              "Unknown            1544\n",
              "formerly smoked     885\n",
              "smokes              789\n",
              "Name: smoking_status, dtype: int64"
            ]
          },
          "metadata": {},
          "execution_count": 174
        }
      ]
    },
    {
      "cell_type": "code",
      "source": [
        "df['hypertension'].value_counts()"
      ],
      "metadata": {
        "colab": {
          "base_uri": "https://localhost:8080/"
        },
        "id": "yhpRLZOs0P56",
        "outputId": "f99c6503-a706-4f6d-825d-737776d6ab00"
      },
      "execution_count": 175,
      "outputs": [
        {
          "output_type": "execute_result",
          "data": {
            "text/plain": [
              "0    4612\n",
              "1     498\n",
              "Name: hypertension, dtype: int64"
            ]
          },
          "metadata": {},
          "execution_count": 175
        }
      ]
    },
    {
      "cell_type": "code",
      "source": [
        "df['heart_disease'].value_counts()"
      ],
      "metadata": {
        "colab": {
          "base_uri": "https://localhost:8080/"
        },
        "id": "2Zxpw-Zf0UlO",
        "outputId": "0e03cf95-ab37-4d81-a24d-bf85fee6e5ee"
      },
      "execution_count": 176,
      "outputs": [
        {
          "output_type": "execute_result",
          "data": {
            "text/plain": [
              "0    4834\n",
              "1     276\n",
              "Name: heart_disease, dtype: int64"
            ]
          },
          "metadata": {},
          "execution_count": 176
        }
      ]
    },
    {
      "cell_type": "markdown",
      "source": [
        "No hay datos incosistentes."
      ],
      "metadata": {
        "id": "U2CYSCHq4QVl"
      }
    },
    {
      "cell_type": "code",
      "source": [
        "df['stroke'].value_counts()"
      ],
      "metadata": {
        "colab": {
          "base_uri": "https://localhost:8080/"
        },
        "id": "w9l9OtYn0ZTb",
        "outputId": "b34e87ce-18cb-4986-815f-337c36edbbd3"
      },
      "execution_count": 177,
      "outputs": [
        {
          "output_type": "execute_result",
          "data": {
            "text/plain": [
              "0    4861\n",
              "1     249\n",
              "Name: stroke, dtype: int64"
            ]
          },
          "metadata": {},
          "execution_count": 177
        }
      ]
    },
    {
      "cell_type": "markdown",
      "source": [
        "Data set desbalanceado."
      ],
      "metadata": {
        "id": "j1BB7z4u0cW0"
      }
    },
    {
      "cell_type": "markdown",
      "source": [
        "### Incosistencias datos numéricos"
      ],
      "metadata": {
        "id": "hJFqeU-f4W2e"
      }
    },
    {
      "cell_type": "code",
      "source": [
        "df.describe()"
      ],
      "metadata": {
        "colab": {
          "base_uri": "https://localhost:8080/",
          "height": 300
        },
        "id": "d2ile0HB0kxw",
        "outputId": "74eb5a88-4d47-41fd-e341-ea7b931e32bf"
      },
      "execution_count": 178,
      "outputs": [
        {
          "output_type": "execute_result",
          "data": {
            "text/plain": [
              "               age  hypertension  heart_disease  avg_glucose_level  \\\n",
              "count  5110.000000   5110.000000    5110.000000        5110.000000   \n",
              "mean     43.226614      0.097456       0.054012         106.147677   \n",
              "std      22.612647      0.296607       0.226063          45.283560   \n",
              "min       0.080000      0.000000       0.000000          55.120000   \n",
              "25%      25.000000      0.000000       0.000000          77.245000   \n",
              "50%      45.000000      0.000000       0.000000          91.885000   \n",
              "75%      61.000000      0.000000       0.000000         114.090000   \n",
              "max      82.000000      1.000000       1.000000         271.740000   \n",
              "\n",
              "               bmi       stroke  \n",
              "count  4909.000000  5110.000000  \n",
              "mean     28.893237     0.048728  \n",
              "std       7.854067     0.215320  \n",
              "min      10.300000     0.000000  \n",
              "25%      23.500000     0.000000  \n",
              "50%      28.100000     0.000000  \n",
              "75%      33.100000     0.000000  \n",
              "max      97.600000     1.000000  "
            ],
            "text/html": [
              "\n",
              "  <div id=\"df-f49a365f-5a4a-4be1-8de5-7c20619507c4\">\n",
              "    <div class=\"colab-df-container\">\n",
              "      <div>\n",
              "<style scoped>\n",
              "    .dataframe tbody tr th:only-of-type {\n",
              "        vertical-align: middle;\n",
              "    }\n",
              "\n",
              "    .dataframe tbody tr th {\n",
              "        vertical-align: top;\n",
              "    }\n",
              "\n",
              "    .dataframe thead th {\n",
              "        text-align: right;\n",
              "    }\n",
              "</style>\n",
              "<table border=\"1\" class=\"dataframe\">\n",
              "  <thead>\n",
              "    <tr style=\"text-align: right;\">\n",
              "      <th></th>\n",
              "      <th>age</th>\n",
              "      <th>hypertension</th>\n",
              "      <th>heart_disease</th>\n",
              "      <th>avg_glucose_level</th>\n",
              "      <th>bmi</th>\n",
              "      <th>stroke</th>\n",
              "    </tr>\n",
              "  </thead>\n",
              "  <tbody>\n",
              "    <tr>\n",
              "      <th>count</th>\n",
              "      <td>5110.000000</td>\n",
              "      <td>5110.000000</td>\n",
              "      <td>5110.000000</td>\n",
              "      <td>5110.000000</td>\n",
              "      <td>4909.000000</td>\n",
              "      <td>5110.000000</td>\n",
              "    </tr>\n",
              "    <tr>\n",
              "      <th>mean</th>\n",
              "      <td>43.226614</td>\n",
              "      <td>0.097456</td>\n",
              "      <td>0.054012</td>\n",
              "      <td>106.147677</td>\n",
              "      <td>28.893237</td>\n",
              "      <td>0.048728</td>\n",
              "    </tr>\n",
              "    <tr>\n",
              "      <th>std</th>\n",
              "      <td>22.612647</td>\n",
              "      <td>0.296607</td>\n",
              "      <td>0.226063</td>\n",
              "      <td>45.283560</td>\n",
              "      <td>7.854067</td>\n",
              "      <td>0.215320</td>\n",
              "    </tr>\n",
              "    <tr>\n",
              "      <th>min</th>\n",
              "      <td>0.080000</td>\n",
              "      <td>0.000000</td>\n",
              "      <td>0.000000</td>\n",
              "      <td>55.120000</td>\n",
              "      <td>10.300000</td>\n",
              "      <td>0.000000</td>\n",
              "    </tr>\n",
              "    <tr>\n",
              "      <th>25%</th>\n",
              "      <td>25.000000</td>\n",
              "      <td>0.000000</td>\n",
              "      <td>0.000000</td>\n",
              "      <td>77.245000</td>\n",
              "      <td>23.500000</td>\n",
              "      <td>0.000000</td>\n",
              "    </tr>\n",
              "    <tr>\n",
              "      <th>50%</th>\n",
              "      <td>45.000000</td>\n",
              "      <td>0.000000</td>\n",
              "      <td>0.000000</td>\n",
              "      <td>91.885000</td>\n",
              "      <td>28.100000</td>\n",
              "      <td>0.000000</td>\n",
              "    </tr>\n",
              "    <tr>\n",
              "      <th>75%</th>\n",
              "      <td>61.000000</td>\n",
              "      <td>0.000000</td>\n",
              "      <td>0.000000</td>\n",
              "      <td>114.090000</td>\n",
              "      <td>33.100000</td>\n",
              "      <td>0.000000</td>\n",
              "    </tr>\n",
              "    <tr>\n",
              "      <th>max</th>\n",
              "      <td>82.000000</td>\n",
              "      <td>1.000000</td>\n",
              "      <td>1.000000</td>\n",
              "      <td>271.740000</td>\n",
              "      <td>97.600000</td>\n",
              "      <td>1.000000</td>\n",
              "    </tr>\n",
              "  </tbody>\n",
              "</table>\n",
              "</div>\n",
              "      <button class=\"colab-df-convert\" onclick=\"convertToInteractive('df-f49a365f-5a4a-4be1-8de5-7c20619507c4')\"\n",
              "              title=\"Convert this dataframe to an interactive table.\"\n",
              "              style=\"display:none;\">\n",
              "        \n",
              "  <svg xmlns=\"http://www.w3.org/2000/svg\" height=\"24px\"viewBox=\"0 0 24 24\"\n",
              "       width=\"24px\">\n",
              "    <path d=\"M0 0h24v24H0V0z\" fill=\"none\"/>\n",
              "    <path d=\"M18.56 5.44l.94 2.06.94-2.06 2.06-.94-2.06-.94-.94-2.06-.94 2.06-2.06.94zm-11 1L8.5 8.5l.94-2.06 2.06-.94-2.06-.94L8.5 2.5l-.94 2.06-2.06.94zm10 10l.94 2.06.94-2.06 2.06-.94-2.06-.94-.94-2.06-.94 2.06-2.06.94z\"/><path d=\"M17.41 7.96l-1.37-1.37c-.4-.4-.92-.59-1.43-.59-.52 0-1.04.2-1.43.59L10.3 9.45l-7.72 7.72c-.78.78-.78 2.05 0 2.83L4 21.41c.39.39.9.59 1.41.59.51 0 1.02-.2 1.41-.59l7.78-7.78 2.81-2.81c.8-.78.8-2.07 0-2.86zM5.41 20L4 18.59l7.72-7.72 1.47 1.35L5.41 20z\"/>\n",
              "  </svg>\n",
              "      </button>\n",
              "      \n",
              "  <style>\n",
              "    .colab-df-container {\n",
              "      display:flex;\n",
              "      flex-wrap:wrap;\n",
              "      gap: 12px;\n",
              "    }\n",
              "\n",
              "    .colab-df-convert {\n",
              "      background-color: #E8F0FE;\n",
              "      border: none;\n",
              "      border-radius: 50%;\n",
              "      cursor: pointer;\n",
              "      display: none;\n",
              "      fill: #1967D2;\n",
              "      height: 32px;\n",
              "      padding: 0 0 0 0;\n",
              "      width: 32px;\n",
              "    }\n",
              "\n",
              "    .colab-df-convert:hover {\n",
              "      background-color: #E2EBFA;\n",
              "      box-shadow: 0px 1px 2px rgba(60, 64, 67, 0.3), 0px 1px 3px 1px rgba(60, 64, 67, 0.15);\n",
              "      fill: #174EA6;\n",
              "    }\n",
              "\n",
              "    [theme=dark] .colab-df-convert {\n",
              "      background-color: #3B4455;\n",
              "      fill: #D2E3FC;\n",
              "    }\n",
              "\n",
              "    [theme=dark] .colab-df-convert:hover {\n",
              "      background-color: #434B5C;\n",
              "      box-shadow: 0px 1px 3px 1px rgba(0, 0, 0, 0.15);\n",
              "      filter: drop-shadow(0px 1px 2px rgba(0, 0, 0, 0.3));\n",
              "      fill: #FFFFFF;\n",
              "    }\n",
              "  </style>\n",
              "\n",
              "      <script>\n",
              "        const buttonEl =\n",
              "          document.querySelector('#df-f49a365f-5a4a-4be1-8de5-7c20619507c4 button.colab-df-convert');\n",
              "        buttonEl.style.display =\n",
              "          google.colab.kernel.accessAllowed ? 'block' : 'none';\n",
              "\n",
              "        async function convertToInteractive(key) {\n",
              "          const element = document.querySelector('#df-f49a365f-5a4a-4be1-8de5-7c20619507c4');\n",
              "          const dataTable =\n",
              "            await google.colab.kernel.invokeFunction('convertToInteractive',\n",
              "                                                     [key], {});\n",
              "          if (!dataTable) return;\n",
              "\n",
              "          const docLinkHtml = 'Like what you see? Visit the ' +\n",
              "            '<a target=\"_blank\" href=https://colab.research.google.com/notebooks/data_table.ipynb>data table notebook</a>'\n",
              "            + ' to learn more about interactive tables.';\n",
              "          element.innerHTML = '';\n",
              "          dataTable['output_type'] = 'display_data';\n",
              "          await google.colab.output.renderOutput(dataTable, element);\n",
              "          const docLink = document.createElement('div');\n",
              "          docLink.innerHTML = docLinkHtml;\n",
              "          element.appendChild(docLink);\n",
              "        }\n",
              "      </script>\n",
              "    </div>\n",
              "  </div>\n",
              "  "
            ]
          },
          "metadata": {},
          "execution_count": 178
        }
      ]
    },
    {
      "cell_type": "code",
      "source": [
        "age=df['age']<1\n",
        "age.sum()"
      ],
      "metadata": {
        "colab": {
          "base_uri": "https://localhost:8080/"
        },
        "id": "v9yfzhki2gVI",
        "outputId": "a56d3b3b-8755-41bc-f394-beed405465a6"
      },
      "execution_count": 179,
      "outputs": [
        {
          "output_type": "execute_result",
          "data": {
            "text/plain": [
              "43"
            ]
          },
          "metadata": {},
          "execution_count": 179
        }
      ]
    },
    {
      "cell_type": "markdown",
      "source": [
        "No tiene sentido edades decimales, hay 43 valores menores que 1. Cambiaremos todos los valores a números enteros."
      ],
      "metadata": {
        "id": "hrjSASHn1xfn"
      }
    },
    {
      "cell_type": "code",
      "source": [
        "df['age']=df['age'].astype(int)"
      ],
      "metadata": {
        "id": "CqGMUPDm06uW"
      },
      "execution_count": 180,
      "outputs": []
    },
    {
      "cell_type": "code",
      "source": [
        "df['age'].describe()"
      ],
      "metadata": {
        "colab": {
          "base_uri": "https://localhost:8080/"
        },
        "id": "BijZQyRU1pTY",
        "outputId": "c083ffc5-0a75-4d7a-f0bc-b55eabbefd7c"
      },
      "execution_count": 181,
      "outputs": [
        {
          "output_type": "execute_result",
          "data": {
            "text/plain": [
              "count    5110.000000\n",
              "mean       43.215264\n",
              "std        22.633866\n",
              "min         0.000000\n",
              "25%        25.000000\n",
              "50%        45.000000\n",
              "75%        61.000000\n",
              "max        82.000000\n",
              "Name: age, dtype: float64"
            ]
          },
          "metadata": {},
          "execution_count": 181
        }
      ]
    },
    {
      "cell_type": "markdown",
      "source": [
        "### Correlación"
      ],
      "metadata": {
        "id": "q6-cgJ9g4nf0"
      }
    },
    {
      "cell_type": "code",
      "source": [
        "correlacion=df.corr()\n",
        "import seaborn as sns\n",
        "sns.heatmap(correlacion, cmap = 'Oranges', annot=True)"
      ],
      "metadata": {
        "colab": {
          "base_uri": "https://localhost:8080/",
          "height": 367
        },
        "id": "l4Muqa814pmD",
        "outputId": "f7f58758-be1d-4fd8-d88f-a3b8e818f0a0"
      },
      "execution_count": 182,
      "outputs": [
        {
          "output_type": "execute_result",
          "data": {
            "text/plain": [
              "<matplotlib.axes._subplots.AxesSubplot at 0x7fa973f81150>"
            ]
          },
          "metadata": {},
          "execution_count": 182
        },
        {
          "output_type": "display_data",
          "data": {
            "text/plain": [
              "<Figure size 432x288 with 2 Axes>"
            ],
            "image/png": "[encoded data removed]"
          },
          "metadata": {
            "needs_background": "light"
          }
        }
      ]
    },
    {
      "cell_type": "markdown",
      "source": [
        "No hay datos con correlación significativa."
      ],
      "metadata": {
        "id": "gd-pLvXC45xB"
      }
    },
    {
      "cell_type": "markdown",
      "source": [
        "### Manejos datos faltantes"
      ],
      "metadata": {
        "id": "ND74TMdE5I_z"
      }
    },
    {
      "cell_type": "code",
      "source": [
        "empty_bmi = df[df['bmi'].isna()]\n",
        "empty_bmi"
      ],
      "metadata": {
        "colab": {
          "base_uri": "https://localhost:8080/",
          "height": 424
        },
        "id": "lmtrp2hC5OVx",
        "outputId": "60a9606c-8da7-49f5-ff2b-8ccce2f0edaf"
      },
      "execution_count": 183,
      "outputs": [
        {
          "output_type": "execute_result",
          "data": {
            "text/plain": [
              "      gender  age  hypertension  heart_disease ever_married      work_type  \\\n",
              "1     Female   61             0              0          Yes  Self-employed   \n",
              "8     Female   59             0              0          Yes        Private   \n",
              "13      Male   78             0              1          Yes        Private   \n",
              "19      Male   57             0              1           No       Govt_job   \n",
              "27      Male   58             0              0          Yes        Private   \n",
              "...      ...  ...           ...            ...          ...            ...   \n",
              "5039    Male   41             0              0           No        Private   \n",
              "5048    Male   40             0              0          Yes        Private   \n",
              "5093  Female   45             1              0          Yes       Govt_job   \n",
              "5099    Male   40             0              0          Yes        Private   \n",
              "5105  Female   80             1              0          Yes        Private   \n",
              "\n",
              "     Residence_type  avg_glucose_level  bmi   smoking_status  stroke  \n",
              "1             Rural             202.21  NaN     never smoked       1  \n",
              "8             Rural              76.15  NaN          Unknown       1  \n",
              "13            Urban             219.84  NaN          Unknown       1  \n",
              "19            Urban             217.08  NaN          Unknown       1  \n",
              "27            Rural             189.84  NaN          Unknown       1  \n",
              "...             ...                ...  ...              ...     ...  \n",
              "5039          Rural              70.15  NaN  formerly smoked       0  \n",
              "5048          Urban             191.15  NaN           smokes       0  \n",
              "5093          Rural              95.02  NaN           smokes       0  \n",
              "5099          Rural              83.94  NaN           smokes       0  \n",
              "5105          Urban              83.75  NaN     never smoked       0  \n",
              "\n",
              "[201 rows x 11 columns]"
            ],
            "text/html": [
              "\n",
              "  <div id=\"df-ea0af636-f3fd-4919-b79d-74ac92176f71\">\n",
              "    <div class=\"colab-df-container\">\n",
              "      <div>\n",
              "<style scoped>\n",
              "    .dataframe tbody tr th:only-of-type {\n",
              "        vertical-align: middle;\n",
              "    }\n",
              "\n",
              "    .dataframe tbody tr th {\n",
              "        vertical-align: top;\n",
              "    }\n",
              "\n",
              "    .dataframe thead th {\n",
              "        text-align: right;\n",
              "    }\n",
              "</style>\n",
              "<table border=\"1\" class=\"dataframe\">\n",
              "  <thead>\n",
              "    <tr style=\"text-align: right;\">\n",
              "      <th></th>\n",
              "      <th>gender</th>\n",
              "      <th>age</th>\n",
              "      <th>hypertension</th>\n",
              "      <th>heart_disease</th>\n",
              "      <th>ever_married</th>\n",
              "      <th>work_type</th>\n",
              "      <th>Residence_type</th>\n",
              "      <th>avg_glucose_level</th>\n",
              "      <th>bmi</th>\n",
              "      <th>smoking_status</th>\n",
              "      <th>stroke</th>\n",
              "    </tr>\n",
              "  </thead>\n",
              "  <tbody>\n",
              "    <tr>\n",
              "      <th>1</th>\n",
              "      <td>Female</td>\n",
              "      <td>61</td>\n",
              "      <td>0</td>\n",
              "      <td>0</td>\n",
              "      <td>Yes</td>\n",
              "      <td>Self-employed</td>\n",
              "      <td>Rural</td>\n",
              "      <td>202.21</td>\n",
              "      <td>NaN</td>\n",
              "      <td>never smoked</td>\n",
              "      <td>1</td>\n",
              "    </tr>\n",
              "    <tr>\n",
              "      <th>8</th>\n",
              "      <td>Female</td>\n",
              "      <td>59</td>\n",
              "      <td>0</td>\n",
              "      <td>0</td>\n",
              "      <td>Yes</td>\n",
              "      <td>Private</td>\n",
              "      <td>Rural</td>\n",
              "      <td>76.15</td>\n",
              "      <td>NaN</td>\n",
              "      <td>Unknown</td>\n",
              "      <td>1</td>\n",
              "    </tr>\n",
              "    <tr>\n",
              "      <th>13</th>\n",
              "      <td>Male</td>\n",
              "      <td>78</td>\n",
              "      <td>0</td>\n",
              "      <td>1</td>\n",
              "      <td>Yes</td>\n",
              "      <td>Private</td>\n",
              "      <td>Urban</td>\n",
              "      <td>219.84</td>\n",
              "      <td>NaN</td>\n",
              "      <td>Unknown</td>\n",
              "      <td>1</td>\n",
              "    </tr>\n",
              "    <tr>\n",
              "      <th>19</th>\n",
              "      <td>Male</td>\n",
              "      <td>57</td>\n",
              "      <td>0</td>\n",
              "      <td>1</td>\n",
              "      <td>No</td>\n",
              "      <td>Govt_job</td>\n",
              "      <td>Urban</td>\n",
              "      <td>217.08</td>\n",
              "      <td>NaN</td>\n",
              "      <td>Unknown</td>\n",
              "      <td>1</td>\n",
              "    </tr>\n",
              "    <tr>\n",
              "      <th>27</th>\n",
              "      <td>Male</td>\n",
              "      <td>58</td>\n",
              "      <td>0</td>\n",
              "      <td>0</td>\n",
              "      <td>Yes</td>\n",
              "      <td>Private</td>\n",
              "      <td>Rural</td>\n",
              "      <td>189.84</td>\n",
              "      <td>NaN</td>\n",
              "      <td>Unknown</td>\n",
              "      <td>1</td>\n",
              "    </tr>\n",
              "    <tr>\n",
              "      <th>...</th>\n",
              "      <td>...</td>\n",
              "      <td>...</td>\n",
              "      <td>...</td>\n",
              "      <td>...</td>\n",
              "      <td>...</td>\n",
              "      <td>...</td>\n",
              "      <td>...</td>\n",
              "      <td>...</td>\n",
              "      <td>...</td>\n",
              "      <td>...</td>\n",
              "      <td>...</td>\n",
              "    </tr>\n",
              "    <tr>\n",
              "      <th>5039</th>\n",
              "      <td>Male</td>\n",
              "      <td>41</td>\n",
              "      <td>0</td>\n",
              "      <td>0</td>\n",
              "      <td>No</td>\n",
              "      <td>Private</td>\n",
              "      <td>Rural</td>\n",
              "      <td>70.15</td>\n",
              "      <td>NaN</td>\n",
              "      <td>formerly smoked</td>\n",
              "      <td>0</td>\n",
              "    </tr>\n",
              "    <tr>\n",
              "      <th>5048</th>\n",
              "      <td>Male</td>\n",
              "      <td>40</td>\n",
              "      <td>0</td>\n",
              "      <td>0</td>\n",
              "      <td>Yes</td>\n",
              "      <td>Private</td>\n",
              "      <td>Urban</td>\n",
              "      <td>191.15</td>\n",
              "      <td>NaN</td>\n",
              "      <td>smokes</td>\n",
              "      <td>0</td>\n",
              "    </tr>\n",
              "    <tr>\n",
              "      <th>5093</th>\n",
              "      <td>Female</td>\n",
              "      <td>45</td>\n",
              "      <td>1</td>\n",
              "      <td>0</td>\n",
              "      <td>Yes</td>\n",
              "      <td>Govt_job</td>\n",
              "      <td>Rural</td>\n",
              "      <td>95.02</td>\n",
              "      <td>NaN</td>\n",
              "      <td>smokes</td>\n",
              "      <td>0</td>\n",
              "    </tr>\n",
              "    <tr>\n",
              "      <th>5099</th>\n",
              "      <td>Male</td>\n",
              "      <td>40</td>\n",
              "      <td>0</td>\n",
              "      <td>0</td>\n",
              "      <td>Yes</td>\n",
              "      <td>Private</td>\n",
              "      <td>Rural</td>\n",
              "      <td>83.94</td>\n",
              "      <td>NaN</td>\n",
              "      <td>smokes</td>\n",
              "      <td>0</td>\n",
              "    </tr>\n",
              "    <tr>\n",
              "      <th>5105</th>\n",
              "      <td>Female</td>\n",
              "      <td>80</td>\n",
              "      <td>1</td>\n",
              "      <td>0</td>\n",
              "      <td>Yes</td>\n",
              "      <td>Private</td>\n",
              "      <td>Urban</td>\n",
              "      <td>83.75</td>\n",
              "      <td>NaN</td>\n",
              "      <td>never smoked</td>\n",
              "      <td>0</td>\n",
              "    </tr>\n",
              "  </tbody>\n",
              "</table>\n",
              "<p>201 rows × 11 columns</p>\n",
              "</div>\n",
              "      <button class=\"colab-df-convert\" onclick=\"convertToInteractive('df-ea0af636-f3fd-4919-b79d-74ac92176f71')\"\n",
              "              title=\"Convert this dataframe to an interactive table.\"\n",
              "              style=\"display:none;\">\n",
              "        \n",
              "  <svg xmlns=\"http://www.w3.org/2000/svg\" height=\"24px\"viewBox=\"0 0 24 24\"\n",
              "       width=\"24px\">\n",
              "    <path d=\"M0 0h24v24H0V0z\" fill=\"none\"/>\n",
              "    <path d=\"M18.56 5.44l.94 2.06.94-2.06 2.06-.94-2.06-.94-.94-2.06-.94 2.06-2.06.94zm-11 1L8.5 8.5l.94-2.06 2.06-.94-2.06-.94L8.5 2.5l-.94 2.06-2.06.94zm10 10l.94 2.06.94-2.06 2.06-.94-2.06-.94-.94-2.06-.94 2.06-2.06.94z\"/><path d=\"M17.41 7.96l-1.37-1.37c-.4-.4-.92-.59-1.43-.59-.52 0-1.04.2-1.43.59L10.3 9.45l-7.72 7.72c-.78.78-.78 2.05 0 2.83L4 21.41c.39.39.9.59 1.41.59.51 0 1.02-.2 1.41-.59l7.78-7.78 2.81-2.81c.8-.78.8-2.07 0-2.86zM5.41 20L4 18.59l7.72-7.72 1.47 1.35L5.41 20z\"/>\n",
              "  </svg>\n",
              "      </button>\n",
              "      \n",
              "  <style>\n",
              "    .colab-df-container {\n",
              "      display:flex;\n",
              "      flex-wrap:wrap;\n",
              "      gap: 12px;\n",
              "    }\n",
              "\n",
              "    .colab-df-convert {\n",
              "      background-color: #E8F0FE;\n",
              "      border: none;\n",
              "      border-radius: 50%;\n",
              "      cursor: pointer;\n",
              "      display: none;\n",
              "      fill: #1967D2;\n",
              "      height: 32px;\n",
              "      padding: 0 0 0 0;\n",
              "      width: 32px;\n",
              "    }\n",
              "\n",
              "    .colab-df-convert:hover {\n",
              "      background-color: #E2EBFA;\n",
              "      box-shadow: 0px 1px 2px rgba(60, 64, 67, 0.3), 0px 1px 3px 1px rgba(60, 64, 67, 0.15);\n",
              "      fill: #174EA6;\n",
              "    }\n",
              "\n",
              "    [theme=dark] .colab-df-convert {\n",
              "      background-color: #3B4455;\n",
              "      fill: #D2E3FC;\n",
              "    }\n",
              "\n",
              "    [theme=dark] .colab-df-convert:hover {\n",
              "      background-color: #434B5C;\n",
              "      box-shadow: 0px 1px 3px 1px rgba(0, 0, 0, 0.15);\n",
              "      filter: drop-shadow(0px 1px 2px rgba(0, 0, 0, 0.3));\n",
              "      fill: #FFFFFF;\n",
              "    }\n",
              "  </style>\n",
              "\n",
              "      <script>\n",
              "        const buttonEl =\n",
              "          document.querySelector('#df-ea0af636-f3fd-4919-b79d-74ac92176f71 button.colab-df-convert');\n",
              "        buttonEl.style.display =\n",
              "          google.colab.kernel.accessAllowed ? 'block' : 'none';\n",
              "\n",
              "        async function convertToInteractive(key) {\n",
              "          const element = document.querySelector('#df-ea0af636-f3fd-4919-b79d-74ac92176f71');\n",
              "          const dataTable =\n",
              "            await google.colab.kernel.invokeFunction('convertToInteractive',\n",
              "                                                     [key], {});\n",
              "          if (!dataTable) return;\n",
              "\n",
              "          const docLinkHtml = 'Like what you see? Visit the ' +\n",
              "            '<a target=\"_blank\" href=https://colab.research.google.com/notebooks/data_table.ipynb>data table notebook</a>'\n",
              "            + ' to learn more about interactive tables.';\n",
              "          element.innerHTML = '';\n",
              "          dataTable['output_type'] = 'display_data';\n",
              "          await google.colab.output.renderOutput(dataTable, element);\n",
              "          const docLink = document.createElement('div');\n",
              "          docLink.innerHTML = docLinkHtml;\n",
              "          element.appendChild(docLink);\n",
              "        }\n",
              "      </script>\n",
              "    </div>\n",
              "  </div>\n",
              "  "
            ]
          },
          "metadata": {},
          "execution_count": 183
        }
      ]
    },
    {
      "cell_type": "code",
      "source": [
        "bmi_mean = df['bmi'].mean()\n",
        "df['bmi']=df['bmi'].fillna(bmi_mean)\n",
        "df.isna().sum()"
      ],
      "metadata": {
        "colab": {
          "base_uri": "https://localhost:8080/"
        },
        "id": "nH5KgBKK6PhH",
        "outputId": "86aa0908-2093-4583-ccce-c2010ed4b84f"
      },
      "execution_count": 184,
      "outputs": [
        {
          "output_type": "execute_result",
          "data": {
            "text/plain": [
              "gender               0\n",
              "age                  0\n",
              "hypertension         0\n",
              "heart_disease        0\n",
              "ever_married         0\n",
              "work_type            0\n",
              "Residence_type       0\n",
              "avg_glucose_level    0\n",
              "bmi                  0\n",
              "smoking_status       0\n",
              "stroke               0\n",
              "dtype: int64"
            ]
          },
          "metadata": {},
          "execution_count": 184
        }
      ]
    },
    {
      "cell_type": "code",
      "source": [
        "df['bmi']"
      ],
      "metadata": {
        "colab": {
          "base_uri": "https://localhost:8080/"
        },
        "id": "6d81VIpI84J7",
        "outputId": "6cab943b-08f2-4c05-fc91-8824a022d889"
      },
      "execution_count": 186,
      "outputs": [
        {
          "output_type": "execute_result",
          "data": {
            "text/plain": [
              "0       36.600000\n",
              "1       28.893237\n",
              "2       32.500000\n",
              "3       34.400000\n",
              "4       24.000000\n",
              "          ...    \n",
              "5105    28.893237\n",
              "5106    40.000000\n",
              "5107    30.600000\n",
              "5108    25.600000\n",
              "5109    26.200000\n",
              "Name: bmi, Length: 5110, dtype: float64"
            ]
          },
          "metadata": {},
          "execution_count": 186
        }
      ]
    },
    {
      "cell_type": "markdown",
      "source": [
        "### Identificación valores atípicos."
      ],
      "metadata": {
        "id": "p3F5uBcK6gl3"
      }
    },
    {
      "cell_type": "code",
      "source": [
        "plt.boxplot(df['age'])\n",
        "plt.show()"
      ],
      "metadata": {
        "colab": {
          "base_uri": "https://localhost:8080/",
          "height": 265
        },
        "id": "hUe8Vlo16lWb",
        "outputId": "5ce7d902-1870-4703-fab6-3983df6acb0c"
      },
      "execution_count": 187,
      "outputs": [
        {
          "output_type": "display_data",
          "data": {
            "text/plain": [
              "<Figure size 432x288 with 1 Axes>"
            ],
            "image/png": "[encoded data removed]"
          },
          "metadata": {
            "needs_background": "light"
          }
        }
      ]
    },
    {
      "cell_type": "code",
      "source": [
        "plt.boxplot(df['bmi'])\n",
        "plt.show()"
      ],
      "metadata": {
        "colab": {
          "base_uri": "https://localhost:8080/",
          "height": 265
        },
        "id": "-L4SRF6s7cX0",
        "outputId": "8fe2c0c3-40a2-4749-d492-a157a10d2c4c"
      },
      "execution_count": 189,
      "outputs": [
        {
          "output_type": "display_data",
          "data": {
            "text/plain": [
              "<Figure size 432x288 with 1 Axes>"
            ],
            "image/png": "[encoded data removed]"
          },
          "metadata": {
            "needs_background": "light"
          }
        }
      ]
    },
    {
      "cell_type": "code",
      "source": [
        "plt.boxplot(df['avg_glucose_level'])\n",
        "plt.show()"
      ],
      "metadata": {
        "colab": {
          "base_uri": "https://localhost:8080/",
          "height": 265
        },
        "id": "hMS02N9G9rXb",
        "outputId": "16d3a340-8fe7-4e5a-fa63-8f83e9307a91"
      },
      "execution_count": 190,
      "outputs": [
        {
          "output_type": "display_data",
          "data": {
            "text/plain": [
              "<Figure size 432x288 with 1 Axes>"
            ],
            "image/png": "[encoded data removed]"
          },
          "metadata": {
            "needs_background": "light"
          }
        }
      ]
    },
    {
      "cell_type": "markdown",
      "source": [
        "Existencia de datos atípicos en el indice de masa corporal y en el promedio de glucosa en la sangre."
      ],
      "metadata": {
        "id": "l5nyLdEa9_KF"
      }
    },
    {
      "cell_type": "markdown",
      "source": [
        "### Visualización."
      ],
      "metadata": {
        "id": "r1jf9lYV-G1b"
      }
    },
    {
      "cell_type": "code",
      "source": [
        "grafica1=df['gender'].value_counts()\n",
        "grafica2=df['ever_married'].value_counts()\n",
        "grafica3=df['hypertension'].value_counts()\n",
        "grafica4=df['heart_disease'].value_counts()\n",
        "grafica4"
      ],
      "metadata": {
        "colab": {
          "base_uri": "https://localhost:8080/"
        },
        "id": "pL9tqTus-r-o",
        "outputId": "3926e068-f6b0-4452-e4c0-366b50dc901c"
      },
      "execution_count": 230,
      "outputs": [
        {
          "output_type": "execute_result",
          "data": {
            "text/plain": [
              "0    4834\n",
              "1     276\n",
              "Name: heart_disease, dtype: int64"
            ]
          },
          "metadata": {},
          "execution_count": 230
        }
      ]
    },
    {
      "cell_type": "code",
      "source": [
        "fig1 = plt.figure(dpi=150)\n",
        "ax1 = fig1.add_subplot(1,2,1)\n",
        "ax2 = fig1.add_subplot(1,2,2) \n",
        "\n",
        "ax1.pie(grafica3, autopct='%.2f%%', labels=['- hipert','+ hipert'], colors=['orange','green'])\n",
        "ax2.pie(grafica4, autopct='%.2f%%', labels=['- e.cardiaca','-e.cardiaca'], colors=['orange','green'])\n",
        "plt.show()"
      ],
      "metadata": {
        "colab": {
          "base_uri": "https://localhost:8080/",
          "height": 364
        },
        "id": "rFRaqDEh-QHf",
        "outputId": "b6e057d2-9fa1-4927-f7e1-7105e3976b93"
      },
      "execution_count": 234,
      "outputs": [
        {
          "output_type": "display_data",
          "data": {
            "text/plain": [
              "<Figure size 900x600 with 2 Axes>"
            ],
            "image/png": "[encoded data removed]"
          },
          "metadata": {}
        }
      ]
    },
    {
      "cell_type": "code",
      "source": [
        "fig1 = plt.figure(dpi=150)\n",
        "ax1 = fig1.add_subplot(1,2,1)\n",
        "ax2 = fig1.add_subplot(1,2,2) \n",
        "\n",
        "ax1.pie(grafica1, autopct='%.2f%%', labels=['Female','Male','Other'], colors=['orange','green','blue'])\n",
        "ax2.pie(grafica2, autopct='%.2f%%', labels=['Enver married','No married'], colors=['orange','green'])\n",
        "plt.show()"
      ],
      "metadata": {
        "colab": {
          "base_uri": "https://localhost:8080/",
          "height": 364
        },
        "id": "lzJVHcJUCUa7",
        "outputId": "25caffe8-9b7e-4916-8104-92b01c988fd0"
      },
      "execution_count": 233,
      "outputs": [
        {
          "output_type": "display_data",
          "data": {
            "text/plain": [
              "<Figure size 900x600 with 2 Axes>"
            ],
            "image/png": "[encoded data removed]"
          },
          "metadata": {}
        }
      ]
    },
    {
      "cell_type": "code",
      "source": [
        "plt.hist(df['age'])\n",
        "plt.show()"
      ],
      "metadata": {
        "colab": {
          "base_uri": "https://localhost:8080/",
          "height": 265
        },
        "id": "c3qPpp7NBz9f",
        "outputId": "06b75e85-2207-4a0d-83c4-b21ad2e66500"
      },
      "execution_count": 225,
      "outputs": [
        {
          "output_type": "display_data",
          "data": {
            "text/plain": [
              "<Figure size 432x288 with 1 Axes>"
            ],
            "image/png": "[encoded data removed]"
          },
          "metadata": {
            "needs_background": "light"
          }
        }
      ]
    },
    {
      "cell_type": "code",
      "source": [
        "plt.hist(df['avg_glucose_level'])\n",
        "plt.show()"
      ],
      "metadata": {
        "colab": {
          "base_uri": "https://localhost:8080/",
          "height": 265
        },
        "id": "52ui2K_sCDLG",
        "outputId": "69923778-2959-43d2-9ed1-5037e0555177"
      },
      "execution_count": 226,
      "outputs": [
        {
          "output_type": "display_data",
          "data": {
            "text/plain": [
              "<Figure size 432x288 with 1 Axes>"
            ],
            "image/png": "[encoded data removed]"
          },
          "metadata": {
            "needs_background": "light"
          }
        }
      ]
    },
    {
      "cell_type": "code",
      "source": [
        "plt.hist(df['bmi'])\n",
        "plt.show()"
      ],
      "metadata": {
        "colab": {
          "base_uri": "https://localhost:8080/",
          "height": 265
        },
        "id": "-75H4JVLCKod",
        "outputId": "7403cc9b-801c-4cd3-b593-73f1b34f5b90"
      },
      "execution_count": 227,
      "outputs": [
        {
          "output_type": "display_data",
          "data": {
            "text/plain": [
              "<Figure size 432x288 with 1 Axes>"
            ],
            "image/png": "[encoded data removed]"
          },
          "metadata": {
            "needs_background": "light"
          }
        }
      ]
    }
  ]
}